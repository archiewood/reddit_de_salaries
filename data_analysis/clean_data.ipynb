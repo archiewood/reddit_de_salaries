{
 "cells": [
  {
   "cell_type": "code",
   "execution_count": 5,
   "metadata": {},
   "outputs": [],
   "source": [
    "import pandas as pd\n"
   ]
  },
  {
   "cell_type": "code",
   "execution_count": 6,
   "metadata": {},
   "outputs": [
    {
     "data": {
      "text/html": [
       "<div>\n",
       "<style scoped>\n",
       "    .dataframe tbody tr th:only-of-type {\n",
       "        vertical-align: middle;\n",
       "    }\n",
       "\n",
       "    .dataframe tbody tr th {\n",
       "        vertical-align: top;\n",
       "    }\n",
       "\n",
       "    .dataframe thead th {\n",
       "        text-align: right;\n",
       "    }\n",
       "</style>\n",
       "<table border=\"1\" class=\"dataframe\">\n",
       "  <thead>\n",
       "    <tr style=\"text-align: right;\">\n",
       "      <th></th>\n",
       "      <th>date</th>\n",
       "      <th>title</th>\n",
       "      <th>experience</th>\n",
       "      <th>location</th>\n",
       "      <th>salary</th>\n",
       "      <th>bonus</th>\n",
       "      <th>industry</th>\n",
       "      <th>benefits</th>\n",
       "    </tr>\n",
       "  </thead>\n",
       "  <tbody>\n",
       "    <tr>\n",
       "      <th>0</th>\n",
       "      <td>2021-06-01</td>\n",
       "      <td>Data Pipeline - Business Side, Sr. Manager</td>\n",
       "      <td>15+ years</td>\n",
       "      <td>LCOL, US</td>\n",
       "      <td>150K</td>\n",
       "      <td>25%</td>\n",
       "      <td>NaN</td>\n",
       "      <td>NaN</td>\n",
       "    </tr>\n",
       "    <tr>\n",
       "      <th>1</th>\n",
       "      <td>2021-06-01</td>\n",
       "      <td>Data Engineer</td>\n",
       "      <td>2.5 years as a DE (3 months of that was an int...</td>\n",
       "      <td>100% Remote; company is based out of a low cos...</td>\n",
       "      <td>130,000USD</td>\n",
       "      <td>10% annual bonus (among other benefits)</td>\n",
       "      <td>NaN</td>\n",
       "      <td>NaN</td>\n",
       "    </tr>\n",
       "    <tr>\n",
       "      <th>2</th>\n",
       "      <td>2021-06-01</td>\n",
       "      <td>Data Engineering Consultant</td>\n",
       "      <td>0.5 years</td>\n",
       "      <td>London</td>\n",
       "      <td>£32K</td>\n",
       "      <td>NaN</td>\n",
       "      <td>NaN</td>\n",
       "      <td>NaN</td>\n",
       "    </tr>\n",
       "    <tr>\n",
       "      <th>3</th>\n",
       "      <td>2021-06-01</td>\n",
       "      <td>ETL Developer</td>\n",
       "      <td>1.5 years</td>\n",
       "      <td>Belarus</td>\n",
       "      <td>$15k USD</td>\n",
       "      <td>NaN</td>\n",
       "      <td>NaN</td>\n",
       "      <td>NaN</td>\n",
       "    </tr>\n",
       "    <tr>\n",
       "      <th>4</th>\n",
       "      <td>2021-06-01</td>\n",
       "      <td>Sr Data Engineer</td>\n",
       "      <td>7 years professional experience. 2 in data eng...</td>\n",
       "      <td>Los Angeles</td>\n",
       "      <td>$125,000 base salary</td>\n",
       "      <td>$12,500 bonus target + $10,000 RSU/year</td>\n",
       "      <td>Online gambling</td>\n",
       "      <td>NaN</td>\n",
       "    </tr>\n",
       "    <tr>\n",
       "      <th>...</th>\n",
       "      <td>...</td>\n",
       "      <td>...</td>\n",
       "      <td>...</td>\n",
       "      <td>...</td>\n",
       "      <td>...</td>\n",
       "      <td>...</td>\n",
       "      <td>...</td>\n",
       "      <td>...</td>\n",
       "    </tr>\n",
       "    <tr>\n",
       "      <th>299</th>\n",
       "      <td>2022-06-01</td>\n",
       "      <td>Senior Data Engineer</td>\n",
       "      <td>5, coming on 6</td>\n",
       "      <td>Seattle (but remote mainly)</td>\n",
       "      <td>$165k base</td>\n",
       "      <td>Annual bonus ($25k signing bonus), some equity...</td>\n",
       "      <td>Media</td>\n",
       "      <td>AWS, Airflow, Spark, some other DevOps tools</td>\n",
       "    </tr>\n",
       "    <tr>\n",
       "      <th>300</th>\n",
       "      <td>2022-06-01</td>\n",
       "      <td>Data Engineer</td>\n",
       "      <td>1 in role, 2 months in DS internship about 6 m...</td>\n",
       "      <td>Virginia (hcol)</td>\n",
       "      <td>102k USD</td>\n",
       "      <td>Paltry bonus- 10% 401k contrib, full healthcar...</td>\n",
       "      <td>Government</td>\n",
       "      <td>Python, sql, unfortunately no cloud resources lol</td>\n",
       "    </tr>\n",
       "    <tr>\n",
       "      <th>301</th>\n",
       "      <td>2022-06-01</td>\n",
       "      <td>Data Engineer</td>\n",
       "      <td>8 Years as a BI Dev 2 Years Data Engineer</td>\n",
       "      <td>London UK</td>\n",
       "      <td>80,000 GBP before Tax</td>\n",
       "      <td>Upto 15% Bonus</td>\n",
       "      <td>Asset Management</td>\n",
       "      <td>SQL, Azure Data Factory, Python (just a little...</td>\n",
       "    </tr>\n",
       "    <tr>\n",
       "      <th>302</th>\n",
       "      <td>2022-06-01</td>\n",
       "      <td>title: Data Engineer 1</td>\n",
       "      <td>location: Michigan (remote CA company)</td>\n",
       "      <td>location: Michigan (remote CA company)</td>\n",
       "      <td>pay: 145k base</td>\n",
       "      <td>bonus: 10% base/yr + 10k rsu sign on</td>\n",
       "      <td>industry: cannabis</td>\n",
       "      <td>stack/libs: Python, Pandas, postgresql, boto3,...</td>\n",
       "    </tr>\n",
       "    <tr>\n",
       "      <th>303</th>\n",
       "      <td>2022-06-01</td>\n",
       "      <td>Data Engineer I</td>\n",
       "      <td>6 months as DE, 5 years with data total</td>\n",
       "      <td>SF</td>\n",
       "      <td>$87,000</td>\n",
       "      <td>$1,000</td>\n",
       "      <td>Non-profit org</td>\n",
       "      <td>Python, MySQL, AWS, R, Ruby</td>\n",
       "    </tr>\n",
       "  </tbody>\n",
       "</table>\n",
       "<p>304 rows × 8 columns</p>\n",
       "</div>"
      ],
      "text/plain": [
       "           date                                       title  \\\n",
       "0    2021-06-01  Data Pipeline - Business Side, Sr. Manager   \n",
       "1    2021-06-01                               Data Engineer   \n",
       "2    2021-06-01                 Data Engineering Consultant   \n",
       "3    2021-06-01                               ETL Developer   \n",
       "4    2021-06-01                            Sr Data Engineer   \n",
       "..          ...                                         ...   \n",
       "299  2022-06-01                        Senior Data Engineer   \n",
       "300  2022-06-01                               Data Engineer   \n",
       "301  2022-06-01                               Data Engineer   \n",
       "302  2022-06-01                      title: Data Engineer 1   \n",
       "303  2022-06-01                             Data Engineer I   \n",
       "\n",
       "                                            experience  \\\n",
       "0                                            15+ years   \n",
       "1    2.5 years as a DE (3 months of that was an int...   \n",
       "2                                            0.5 years   \n",
       "3                                            1.5 years   \n",
       "4    7 years professional experience. 2 in data eng...   \n",
       "..                                                 ...   \n",
       "299                                     5, coming on 6   \n",
       "300  1 in role, 2 months in DS internship about 6 m...   \n",
       "301          8 Years as a BI Dev 2 Years Data Engineer   \n",
       "302             location: Michigan (remote CA company)   \n",
       "303            6 months as DE, 5 years with data total   \n",
       "\n",
       "                                              location                 salary  \\\n",
       "0                                             LCOL, US                   150K   \n",
       "1    100% Remote; company is based out of a low cos...             130,000USD   \n",
       "2                                               London                   £32K   \n",
       "3                                              Belarus               $15k USD   \n",
       "4                                          Los Angeles   $125,000 base salary   \n",
       "..                                                 ...                    ...   \n",
       "299                        Seattle (but remote mainly)             $165k base   \n",
       "300                                    Virginia (hcol)               102k USD   \n",
       "301                                          London UK  80,000 GBP before Tax   \n",
       "302             location: Michigan (remote CA company)         pay: 145k base   \n",
       "303                                                 SF                $87,000   \n",
       "\n",
       "                                                 bonus            industry  \\\n",
       "0                                                  25%                 NaN   \n",
       "1              10% annual bonus (among other benefits)                 NaN   \n",
       "2                                                  NaN                 NaN   \n",
       "3                                                  NaN                 NaN   \n",
       "4              $12,500 bonus target + $10,000 RSU/year     Online gambling   \n",
       "..                                                 ...                 ...   \n",
       "299  Annual bonus ($25k signing bonus), some equity...               Media   \n",
       "300  Paltry bonus- 10% 401k contrib, full healthcar...          Government   \n",
       "301                                     Upto 15% Bonus    Asset Management   \n",
       "302               bonus: 10% base/yr + 10k rsu sign on  industry: cannabis   \n",
       "303                                             $1,000      Non-profit org   \n",
       "\n",
       "                                              benefits  \n",
       "0                                                  NaN  \n",
       "1                                                  NaN  \n",
       "2                                                  NaN  \n",
       "3                                                  NaN  \n",
       "4                                                  NaN  \n",
       "..                                                 ...  \n",
       "299       AWS, Airflow, Spark, some other DevOps tools  \n",
       "300  Python, sql, unfortunately no cloud resources lol  \n",
       "301  SQL, Azure Data Factory, Python (just a little...  \n",
       "302  stack/libs: Python, Pandas, postgresql, boto3,...  \n",
       "303                        Python, MySQL, AWS, R, Ruby  \n",
       "\n",
       "[304 rows x 8 columns]"
      ]
     },
     "execution_count": 6,
     "metadata": {},
     "output_type": "execute_result"
    }
   ],
   "source": [
    "df = pd.read_csv('data_no_invalid_rows.csv')\n",
    "df\n"
   ]
  },
  {
   "cell_type": "code",
   "execution_count": 7,
   "metadata": {},
   "outputs": [
    {
     "name": "stderr",
     "output_type": "stream",
     "text": [
      "/var/folders/l7/m69bgsp16830cvfm6973p2h00000gn/T/ipykernel_64264/2228083997.py:2: FutureWarning: The default value of regex will change from True to False in a future version.\n",
      "  df.title = df.title.str.lower().str.replace(\n",
      "/var/folders/l7/m69bgsp16830cvfm6973p2h00000gn/T/ipykernel_64264/2228083997.py:4: FutureWarning: The default value of regex will change from True to False in a future version.\n",
      "  df.experience = df.experience.str.lower().str.replace(\n",
      "/var/folders/l7/m69bgsp16830cvfm6973p2h00000gn/T/ipykernel_64264/2228083997.py:6: FutureWarning: The default value of regex will change from True to False in a future version.\n",
      "  df.location = df.location.str.lower().str.replace(\n",
      "/var/folders/l7/m69bgsp16830cvfm6973p2h00000gn/T/ipykernel_64264/2228083997.py:8: FutureWarning: The default value of regex will change from True to False in a future version.\n",
      "  df.salary = df.salary.str.replace(r\"\\(.*\\)\", \"\").str.replace(r\".*\\)\", \"\")\n",
      "/var/folders/l7/m69bgsp16830cvfm6973p2h00000gn/T/ipykernel_64264/2228083997.py:9: FutureWarning: The default value of regex will change from True to False in a future version.\n",
      "  df.bonus = df.bonus.str.lower().str.replace(\n",
      "/var/folders/l7/m69bgsp16830cvfm6973p2h00000gn/T/ipykernel_64264/2228083997.py:11: FutureWarning: The default value of regex will change from True to False in a future version.\n",
      "  df.industry = df.industry.str.lower().str.replace(\n",
      "/var/folders/l7/m69bgsp16830cvfm6973p2h00000gn/T/ipykernel_64264/2228083997.py:13: FutureWarning: The default value of regex will change from True to False in a future version.\n",
      "  df.benefits = df.benefits.str.lower().str.replace(\n"
     ]
    }
   ],
   "source": [
    "# lowercase, remove brackets\n",
    "df.title = df.title.str.lower().str.replace(\n",
    "    r\"\\(.*\\)\", \"\").str.replace(r\".*\\)\", \"\")\n",
    "df.experience = df.experience.str.lower().str.replace(\n",
    "    r\"\\(.*\\)\", \"\").str.replace(r\".*\\)\", \"\")\n",
    "df.location = df.location.str.lower().str.replace(\n",
    "    r\"\\(.*\\)\", \"\").str.replace(r\".*\\)\", \"\")\n",
    "df.salary = df.salary.str.replace(r\"\\(.*\\)\", \"\").str.replace(r\".*\\)\", \"\")\n",
    "df.bonus = df.bonus.str.lower().str.replace(\n",
    "    r\"\\(.*\\)\", \"\").str.replace(r\".*\\)\", \"\")\n",
    "df.industry = df.industry.str.lower().str.replace(\n",
    "    r\"\\(.*\\)\", \"\").str.replace(r\".*\\)\", \"\")\n",
    "df.benefits = df.benefits.str.lower().str.replace(\n",
    "    r\"\\(.*\\)\", \"\").str.replace(r\".*\\)\", \"\")\n"
   ]
  },
  {
   "cell_type": "code",
   "execution_count": 8,
   "metadata": {},
   "outputs": [
    {
     "name": "stderr",
     "output_type": "stream",
     "text": [
      "/var/folders/l7/m69bgsp16830cvfm6973p2h00000gn/T/ipykernel_64264/814641364.py:2: FutureWarning: The default value of regex will change from True to False in a future version.\n",
      "  df.title = df.title.str.replace(r\"\\.\", \"\").str.replace(\n",
      "/var/folders/l7/m69bgsp16830cvfm6973p2h00000gn/T/ipykernel_64264/814641364.py:13: FutureWarning: The default value of regex will change from True to False in a future version.\n",
      "  df.title = df.title.str.replace(r\"de$\", \"data engineer\")\n"
     ]
    }
   ],
   "source": [
    "# remove \".\" and \",\" and \"-\" and \"/\" from titles\n",
    "df.title = df.title.str.replace(r\"\\.\", \"\").str.replace(\n",
    "    r\",\", \"\").str.replace(r\"-\", \"\").str.replace(r\"/\", \"\")\n",
    "# replace \"sr \" with \"senior \" and \"jr\" with \"junior\" in titles\n",
    "df.title = df.title.str.replace(\n",
    "    r\"sr \", \"senior \").str.replace(r\"jr \", \"junior \")\n",
    "# remove \"title:\"   from titles\n",
    "df.title = df.title.str.replace(r\"title:\", \"\").str.replace(r\"title\", \"\")\n",
    "# replace \"de \" with \"data engineer \" in titles\n",
    "df.title = df.title.str.replace(r\"de \", \"data engineer \")\n",
    "\n",
    "# replace \"de\" with \"data engineer\" in titles when at the end of the string\n",
    "df.title = df.title.str.replace(r\"de$\", \"data engineer\")\n",
    "# replace \"business intelligence\" with \"bi\" in titles\n",
    "df.title = df.title.str.replace(r\"business intelligence\", \"bi\")\n",
    "# replace numbers with lowercase romans in titles\n",
    "df.title = df.title.str.replace(r\"1\", \"i\").str.replace(r\"2\", \"ii\").str.replace(r\"3\", \"iii\").str.replace(r\"4\", \"iv\").str.replace(\n",
    "    r\"5\", \"v\").str.replace(r\"6\", \"vi\").str.replace(r\"7\", \"vii\").str.replace(r\"8\", \"viii\").str.replace(r\"9\", \"ix\").str.replace(r\"10\", \"x\")\n",
    "\n",
    "# trim whitespace from titles\n",
    "df.title = df.title.str.strip()\n"
   ]
  },
  {
   "cell_type": "code",
   "execution_count": 10,
   "metadata": {},
   "outputs": [
    {
     "data": {
      "text/html": [
       "<div>\n",
       "<style scoped>\n",
       "    .dataframe tbody tr th:only-of-type {\n",
       "        vertical-align: middle;\n",
       "    }\n",
       "\n",
       "    .dataframe tbody tr th {\n",
       "        vertical-align: top;\n",
       "    }\n",
       "\n",
       "    .dataframe thead th {\n",
       "        text-align: right;\n",
       "    }\n",
       "</style>\n",
       "<table border=\"1\" class=\"dataframe\">\n",
       "  <thead>\n",
       "    <tr style=\"text-align: right;\">\n",
       "      <th></th>\n",
       "      <th>date</th>\n",
       "      <th>title</th>\n",
       "      <th>experience</th>\n",
       "      <th>location</th>\n",
       "      <th>salary</th>\n",
       "      <th>bonus</th>\n",
       "      <th>industry</th>\n",
       "      <th>benefits</th>\n",
       "    </tr>\n",
       "  </thead>\n",
       "  <tbody>\n",
       "    <tr>\n",
       "      <th>0</th>\n",
       "      <td>2021-06-01</td>\n",
       "      <td>data pipeline  business sidata engineer senior...</td>\n",
       "      <td>15+ years</td>\n",
       "      <td>lcol, us</td>\n",
       "      <td>150K</td>\n",
       "      <td>25%</td>\n",
       "      <td>NaN</td>\n",
       "      <td>NaN</td>\n",
       "    </tr>\n",
       "    <tr>\n",
       "      <th>1</th>\n",
       "      <td>2021-06-01</td>\n",
       "      <td>data engineer</td>\n",
       "      <td>2.5 years as a de</td>\n",
       "      <td>100% remote; company is based out of a low cos...</td>\n",
       "      <td>130,000USD</td>\n",
       "      <td>10% annual bonus</td>\n",
       "      <td>NaN</td>\n",
       "      <td>NaN</td>\n",
       "    </tr>\n",
       "    <tr>\n",
       "      <th>2</th>\n",
       "      <td>2021-06-01</td>\n",
       "      <td>data engineering consultant</td>\n",
       "      <td>0.5 years</td>\n",
       "      <td>london</td>\n",
       "      <td>£32K</td>\n",
       "      <td>NaN</td>\n",
       "      <td>NaN</td>\n",
       "      <td>NaN</td>\n",
       "    </tr>\n",
       "    <tr>\n",
       "      <th>3</th>\n",
       "      <td>2021-06-01</td>\n",
       "      <td>etl developer</td>\n",
       "      <td>1.5 years</td>\n",
       "      <td>belarus</td>\n",
       "      <td>$15k USD</td>\n",
       "      <td>NaN</td>\n",
       "      <td>NaN</td>\n",
       "      <td>NaN</td>\n",
       "    </tr>\n",
       "    <tr>\n",
       "      <th>4</th>\n",
       "      <td>2021-06-01</td>\n",
       "      <td>senior data engineer</td>\n",
       "      <td>7 years professional experience. 2 in data eng...</td>\n",
       "      <td>los angeles</td>\n",
       "      <td>$125,000 base salary</td>\n",
       "      <td>$12,500 bonus target + $10,000 rsu/year</td>\n",
       "      <td>online gambling</td>\n",
       "      <td>NaN</td>\n",
       "    </tr>\n",
       "    <tr>\n",
       "      <th>...</th>\n",
       "      <td>...</td>\n",
       "      <td>...</td>\n",
       "      <td>...</td>\n",
       "      <td>...</td>\n",
       "      <td>...</td>\n",
       "      <td>...</td>\n",
       "      <td>...</td>\n",
       "      <td>...</td>\n",
       "    </tr>\n",
       "    <tr>\n",
       "      <th>299</th>\n",
       "      <td>2022-06-01</td>\n",
       "      <td>senior data engineer</td>\n",
       "      <td>5, coming on 6</td>\n",
       "      <td>seattle</td>\n",
       "      <td>$165k base</td>\n",
       "      <td>annual bonus , some equity package i can't rem...</td>\n",
       "      <td>media</td>\n",
       "      <td>aws, airflow, spark, some other devops tools</td>\n",
       "    </tr>\n",
       "    <tr>\n",
       "      <th>300</th>\n",
       "      <td>2022-06-01</td>\n",
       "      <td>data engineer</td>\n",
       "      <td>1 in role, 2 months in ds internship about 6 m...</td>\n",
       "      <td>virginia</td>\n",
       "      <td>102k USD</td>\n",
       "      <td>paltry bonus- 10% 401k contrib, full healthcar...</td>\n",
       "      <td>government</td>\n",
       "      <td>python, sql, unfortunately no cloud resources lol</td>\n",
       "    </tr>\n",
       "    <tr>\n",
       "      <th>301</th>\n",
       "      <td>2022-06-01</td>\n",
       "      <td>data engineer</td>\n",
       "      <td>8 years as a bi dev 2 years data engineer</td>\n",
       "      <td>london uk</td>\n",
       "      <td>80,000 GBP before Tax</td>\n",
       "      <td>upto 15% bonus</td>\n",
       "      <td>asset management</td>\n",
       "      <td>sql, azure data factory, python</td>\n",
       "    </tr>\n",
       "    <tr>\n",
       "      <th>302</th>\n",
       "      <td>2022-06-01</td>\n",
       "      <td>data engineer i</td>\n",
       "      <td>location: michigan</td>\n",
       "      <td>location: michigan</td>\n",
       "      <td>pay: 145k base</td>\n",
       "      <td>bonus: 10% base/yr + 10k rsu sign on</td>\n",
       "      <td>industry: cannabis</td>\n",
       "      <td>stack/libs: python, pandas, postgresql, boto3,...</td>\n",
       "    </tr>\n",
       "    <tr>\n",
       "      <th>303</th>\n",
       "      <td>2022-06-01</td>\n",
       "      <td>data engineer i</td>\n",
       "      <td>6 months as de, 5 years with data total</td>\n",
       "      <td>sf</td>\n",
       "      <td>$87,000</td>\n",
       "      <td>$1,000</td>\n",
       "      <td>non-profit org</td>\n",
       "      <td>python, mysql, aws, r, ruby</td>\n",
       "    </tr>\n",
       "  </tbody>\n",
       "</table>\n",
       "<p>304 rows × 8 columns</p>\n",
       "</div>"
      ],
      "text/plain": [
       "           date                                              title  \\\n",
       "0    2021-06-01  data pipeline  business sidata engineer senior...   \n",
       "1    2021-06-01                                      data engineer   \n",
       "2    2021-06-01                        data engineering consultant   \n",
       "3    2021-06-01                                      etl developer   \n",
       "4    2021-06-01                               senior data engineer   \n",
       "..          ...                                                ...   \n",
       "299  2022-06-01                               senior data engineer   \n",
       "300  2022-06-01                                      data engineer   \n",
       "301  2022-06-01                                      data engineer   \n",
       "302  2022-06-01                                    data engineer i   \n",
       "303  2022-06-01                                    data engineer i   \n",
       "\n",
       "                                            experience  \\\n",
       "0                                            15+ years   \n",
       "1                                   2.5 years as a de    \n",
       "2                                            0.5 years   \n",
       "3                                            1.5 years   \n",
       "4    7 years professional experience. 2 in data eng...   \n",
       "..                                                 ...   \n",
       "299                                     5, coming on 6   \n",
       "300  1 in role, 2 months in ds internship about 6 m...   \n",
       "301          8 years as a bi dev 2 years data engineer   \n",
       "302                                location: michigan    \n",
       "303            6 months as de, 5 years with data total   \n",
       "\n",
       "                                              location                 salary  \\\n",
       "0                                             lcol, us                   150K   \n",
       "1    100% remote; company is based out of a low cos...             130,000USD   \n",
       "2                                               london                   £32K   \n",
       "3                                              belarus               $15k USD   \n",
       "4                                          los angeles   $125,000 base salary   \n",
       "..                                                 ...                    ...   \n",
       "299                                           seattle              $165k base   \n",
       "300                                          virginia                102k USD   \n",
       "301                                          london uk  80,000 GBP before Tax   \n",
       "302                                location: michigan          pay: 145k base   \n",
       "303                                                 sf                $87,000   \n",
       "\n",
       "                                                 bonus            industry  \\\n",
       "0                                                  25%                 NaN   \n",
       "1                                    10% annual bonus                  NaN   \n",
       "2                                                  NaN                 NaN   \n",
       "3                                                  NaN                 NaN   \n",
       "4              $12,500 bonus target + $10,000 rsu/year     online gambling   \n",
       "..                                                 ...                 ...   \n",
       "299  annual bonus , some equity package i can't rem...               media   \n",
       "300  paltry bonus- 10% 401k contrib, full healthcar...          government   \n",
       "301                                     upto 15% bonus    asset management   \n",
       "302               bonus: 10% base/yr + 10k rsu sign on  industry: cannabis   \n",
       "303                                             $1,000      non-profit org   \n",
       "\n",
       "                                              benefits  \n",
       "0                                                  NaN  \n",
       "1                                                  NaN  \n",
       "2                                                  NaN  \n",
       "3                                                  NaN  \n",
       "4                                                  NaN  \n",
       "..                                                 ...  \n",
       "299       aws, airflow, spark, some other devops tools  \n",
       "300  python, sql, unfortunately no cloud resources lol  \n",
       "301                   sql, azure data factory, python   \n",
       "302  stack/libs: python, pandas, postgresql, boto3,...  \n",
       "303                        python, mysql, aws, r, ruby  \n",
       "\n",
       "[304 rows x 8 columns]"
      ]
     },
     "execution_count": 10,
     "metadata": {},
     "output_type": "execute_result"
    }
   ],
   "source": [
    "df\n"
   ]
  },
  {
   "cell_type": "code",
   "execution_count": 11,
   "metadata": {},
   "outputs": [
    {
     "name": "stderr",
     "output_type": "stream",
     "text": [
      "/var/folders/l7/m69bgsp16830cvfm6973p2h00000gn/T/ipykernel_64264/3879029560.py:5: FutureWarning: The default value of regex will change from True to False in a future version.\n",
      "  df['experience_clean'] = df.experience_pre_clean.str[0:7].str.replace(\n"
     ]
    }
   ],
   "source": [
    "# remove \"years of experience\" from experience\n",
    "df['experience_pre_clean'] = df.experience.str.replace(\n",
    "    r\"years of experience\", \"\")\n",
    "# remove non numeric characters except \".\"\" or \",\" from experience, convert to numeric\n",
    "df['experience_clean'] = df.experience_pre_clean.str[0:7].str.replace(\n",
    "    r\"[^0-9\\.,]\", \"\").str.replace(r\", \", \"\")\n",
    "\n",
    "\n",
    "# try to convert to numeric\n",
    "df['experience_clean'] = pd.to_numeric(df['experience_clean'], errors='coerce')\n",
    "# if df.experience contains \"month\" then divide df.experience_clean by 12\n",
    "df['experience_clean'] = df.experience_clean.where(df.experience.str.contains(\n",
    "    \"month\") == False, df.experience_clean/12.0, errors='ignore')\n",
    "# if experience_clean > 40 then replace with Null\n",
    "df['experience_clean'] = df.experience_clean.where(\n",
    "    df.experience_clean <= 40, None)\n"
   ]
  },
  {
   "cell_type": "code",
   "execution_count": 12,
   "metadata": {},
   "outputs": [
    {
     "name": "stderr",
     "output_type": "stream",
     "text": [
      "/var/folders/l7/m69bgsp16830cvfm6973p2h00000gn/T/ipykernel_64264/1328287894.py:2: FutureWarning: The default value of regex will change from True to False in a future version.\n",
      "  df['salary_clean'] = pd.to_numeric(df.salary.str[0:12].str.replace(r\"[^0-9\\.]\", \"\"), errors='coerce')\n"
     ]
    }
   ],
   "source": [
    "# remove non numeric characters except \".\" from salary, convert to numeric\n",
    "df['salary_clean'] = pd.to_numeric(df.salary.str[0:12].str.replace(r\"[^0-9\\.]\", \"\"), errors='coerce')\n",
    "# multiply by 1000 if contains k\n",
    "df['salary_clean'] = df.salary_clean.where(\n",
    "    df.salary.str.contains(\"k\") == False, df.salary_clean*1000, errors='ignore').where(\n",
    "        df.salary.str.contains(\"K \") == False, df.salary_clean*1000, errors='ignore').where(\n",
    "            df.salary.str.contains(\"K \") == False, df.salary_clean*1000, errors='ignore').where(\n",
    "                df.salary.str.contains(\"K$\") == False, df.salary_clean*1000, errors='ignore').where(\n",
    "                    df.salary.str.contains(\"mon\") == False, df.salary_clean*12, errors='ignore').where(\n",
    "                        df.salary.str.contains(\"/mo\") == False, df.salary_clean*12, errors='ignore')\n",
    "                    \n",
    "\n",
    "\n",
    "df['salary_clean'] = df.salary_clean.where(df.salary.str.contains(\"L\") == False, df.salary_clean*100000, errors='ignore')"
   ]
  },
  {
   "cell_type": "code",
   "execution_count": 13,
   "metadata": {},
   "outputs": [
    {
     "data": {
      "text/html": [
       "<div>\n",
       "<style scoped>\n",
       "    .dataframe tbody tr th:only-of-type {\n",
       "        vertical-align: middle;\n",
       "    }\n",
       "\n",
       "    .dataframe tbody tr th {\n",
       "        vertical-align: top;\n",
       "    }\n",
       "\n",
       "    .dataframe thead th {\n",
       "        text-align: right;\n",
       "    }\n",
       "</style>\n",
       "<table border=\"1\" class=\"dataframe\">\n",
       "  <thead>\n",
       "    <tr style=\"text-align: right;\">\n",
       "      <th></th>\n",
       "      <th>salary</th>\n",
       "      <th>salary_clean</th>\n",
       "      <th>salary_currency</th>\n",
       "    </tr>\n",
       "  </thead>\n",
       "  <tbody>\n",
       "    <tr>\n",
       "      <th>100</th>\n",
       "      <td>$220k annual equity target</td>\n",
       "      <td>220000.0</td>\n",
       "      <td>USD</td>\n",
       "    </tr>\n",
       "    <tr>\n",
       "      <th>101</th>\n",
       "      <td>160,000 USD base</td>\n",
       "      <td>160000.0</td>\n",
       "      <td>USD</td>\n",
       "    </tr>\n",
       "    <tr>\n",
       "      <th>102</th>\n",
       "      <td>93,000 CHF</td>\n",
       "      <td>93000.0</td>\n",
       "      <td>CHF</td>\n",
       "    </tr>\n",
       "    <tr>\n",
       "      <th>103</th>\n",
       "      <td>120k USD FTE and side work at $55/hr</td>\n",
       "      <td>120000.0</td>\n",
       "      <td>USD</td>\n",
       "    </tr>\n",
       "    <tr>\n",
       "      <th>104</th>\n",
       "      <td>$110k base</td>\n",
       "      <td>110000.0</td>\n",
       "      <td>USD</td>\n",
       "    </tr>\n",
       "    <tr>\n",
       "      <th>105</th>\n",
       "      <td>72k Base</td>\n",
       "      <td>72000.0</td>\n",
       "      <td>USD</td>\n",
       "    </tr>\n",
       "    <tr>\n",
       "      <th>106</th>\n",
       "      <td>£48K</td>\n",
       "      <td>48000.0</td>\n",
       "      <td>GBP</td>\n",
       "    </tr>\n",
       "    <tr>\n",
       "      <th>107</th>\n",
       "      <td>90k CAD</td>\n",
       "      <td>90000.0</td>\n",
       "      <td>CAD</td>\n",
       "    </tr>\n",
       "    <tr>\n",
       "      <th>108</th>\n",
       "      <td>$137,000 USD Base</td>\n",
       "      <td>137000.0</td>\n",
       "      <td>USD</td>\n",
       "    </tr>\n",
       "    <tr>\n",
       "      <th>109</th>\n",
       "      <td>~$70.000</td>\n",
       "      <td>70.0</td>\n",
       "      <td>USD</td>\n",
       "    </tr>\n",
       "    <tr>\n",
       "      <th>110</th>\n",
       "      <td>~180k CAD</td>\n",
       "      <td>180000.0</td>\n",
       "      <td>CAD</td>\n",
       "    </tr>\n",
       "    <tr>\n",
       "      <th>111</th>\n",
       "      <td>90k</td>\n",
       "      <td>90000.0</td>\n",
       "      <td>USD</td>\n",
       "    </tr>\n",
       "    <tr>\n",
       "      <th>112</th>\n",
       "      <td>41k GBP / 56.k USD / 47.7k Euros salary.</td>\n",
       "      <td>4156000.0</td>\n",
       "      <td>EUR</td>\n",
       "    </tr>\n",
       "    <tr>\n",
       "      <th>113</th>\n",
       "      <td>Kansas City</td>\n",
       "      <td>NaN</td>\n",
       "      <td>USD</td>\n",
       "    </tr>\n",
       "    <tr>\n",
       "      <th>114</th>\n",
       "      <td>25k Base USD</td>\n",
       "      <td>25000.0</td>\n",
       "      <td>USD</td>\n",
       "    </tr>\n",
       "    <tr>\n",
       "      <th>115</th>\n",
       "      <td>140k base</td>\n",
       "      <td>140000.0</td>\n",
       "      <td>USD</td>\n",
       "    </tr>\n",
       "    <tr>\n",
       "      <th>116</th>\n",
       "      <td>45k EUR/year for 32hours/week part-time</td>\n",
       "      <td>45000.0</td>\n",
       "      <td>EUR</td>\n",
       "    </tr>\n",
       "    <tr>\n",
       "      <th>117</th>\n",
       "      <td>$200k base</td>\n",
       "      <td>200000.0</td>\n",
       "      <td>USD</td>\n",
       "    </tr>\n",
       "    <tr>\n",
       "      <th>118</th>\n",
       "      <td>AUD $110,000 + superannuation</td>\n",
       "      <td>110000.0</td>\n",
       "      <td>AUD</td>\n",
       "    </tr>\n",
       "    <tr>\n",
       "      <th>119</th>\n",
       "      <td>CA$160K</td>\n",
       "      <td>160000.0</td>\n",
       "      <td>USD</td>\n",
       "    </tr>\n",
       "    <tr>\n",
       "      <th>120</th>\n",
       "      <td>90k usd .</td>\n",
       "      <td>90000.0</td>\n",
       "      <td>USD</td>\n",
       "    </tr>\n",
       "    <tr>\n",
       "      <th>121</th>\n",
       "      <td>$145k</td>\n",
       "      <td>145000.0</td>\n",
       "      <td>USD</td>\n",
       "    </tr>\n",
       "    <tr>\n",
       "      <th>122</th>\n",
       "      <td>45k USD</td>\n",
       "      <td>45000.0</td>\n",
       "      <td>USD</td>\n",
       "    </tr>\n",
       "    <tr>\n",
       "      <th>123</th>\n",
       "      <td>$123k</td>\n",
       "      <td>123000.0</td>\n",
       "      <td>USD</td>\n",
       "    </tr>\n",
       "    <tr>\n",
       "      <th>124</th>\n",
       "      <td>190k USD</td>\n",
       "      <td>190000.0</td>\n",
       "      <td>USD</td>\n",
       "    </tr>\n",
       "    <tr>\n",
       "      <th>125</th>\n",
       "      <td>90K salary</td>\n",
       "      <td>90000.0</td>\n",
       "      <td>USD</td>\n",
       "    </tr>\n",
       "    <tr>\n",
       "      <th>126</th>\n",
       "      <td>90k CAD</td>\n",
       "      <td>90000.0</td>\n",
       "      <td>CAD</td>\n",
       "    </tr>\n",
       "    <tr>\n",
       "      <th>127</th>\n",
       "      <td>205K</td>\n",
       "      <td>205000.0</td>\n",
       "      <td>USD</td>\n",
       "    </tr>\n",
       "    <tr>\n",
       "      <th>128</th>\n",
       "      <td>95k/yr</td>\n",
       "      <td>95000.0</td>\n",
       "      <td>USD</td>\n",
       "    </tr>\n",
       "    <tr>\n",
       "      <th>129</th>\n",
       "      <td>39k USD</td>\n",
       "      <td>39000.0</td>\n",
       "      <td>USD</td>\n",
       "    </tr>\n",
       "    <tr>\n",
       "      <th>130</th>\n",
       "      <td>Base: $90k</td>\n",
       "      <td>90000.0</td>\n",
       "      <td>USD</td>\n",
       "    </tr>\n",
       "    <tr>\n",
       "      <th>131</th>\n",
       "      <td>$133k USD</td>\n",
       "      <td>133000.0</td>\n",
       "      <td>USD</td>\n",
       "    </tr>\n",
       "    <tr>\n",
       "      <th>132</th>\n",
       "      <td>80k CAD</td>\n",
       "      <td>80000.0</td>\n",
       "      <td>CAD</td>\n",
       "    </tr>\n",
       "    <tr>\n",
       "      <th>133</th>\n",
       "      <td>$140,000 USD</td>\n",
       "      <td>140000.0</td>\n",
       "      <td>USD</td>\n",
       "    </tr>\n",
       "    <tr>\n",
       "      <th>134</th>\n",
       "      <td>$80,000</td>\n",
       "      <td>80000.0</td>\n",
       "      <td>USD</td>\n",
       "    </tr>\n",
       "    <tr>\n",
       "      <th>135</th>\n",
       "      <td>$178,000 CAD</td>\n",
       "      <td>178000.0</td>\n",
       "      <td>CAD</td>\n",
       "    </tr>\n",
       "    <tr>\n",
       "      <th>136</th>\n",
       "      <td>72.00€</td>\n",
       "      <td>72.0</td>\n",
       "      <td>EUR</td>\n",
       "    </tr>\n",
       "    <tr>\n",
       "      <th>137</th>\n",
       "      <td>53,000€</td>\n",
       "      <td>53000.0</td>\n",
       "      <td>EUR</td>\n",
       "    </tr>\n",
       "    <tr>\n",
       "      <th>138</th>\n",
       "      <td>120,000 USD</td>\n",
       "      <td>120000.0</td>\n",
       "      <td>USD</td>\n",
       "    </tr>\n",
       "    <tr>\n",
       "      <th>139</th>\n",
       "      <td>Base salary - $150k USD</td>\n",
       "      <td>NaN</td>\n",
       "      <td>USD</td>\n",
       "    </tr>\n",
       "    <tr>\n",
       "      <th>140</th>\n",
       "      <td>100k. Hourly. No other benefits provided</td>\n",
       "      <td>100000.0</td>\n",
       "      <td>USD</td>\n",
       "    </tr>\n",
       "    <tr>\n",
       "      <th>141</th>\n",
       "      <td>$180k USD</td>\n",
       "      <td>180000.0</td>\n",
       "      <td>USD</td>\n",
       "    </tr>\n",
       "    <tr>\n",
       "      <th>142</th>\n",
       "      <td>160,000 USD</td>\n",
       "      <td>160000.0</td>\n",
       "      <td>USD</td>\n",
       "    </tr>\n",
       "    <tr>\n",
       "      <th>143</th>\n",
       "      <td>117k</td>\n",
       "      <td>117000.0</td>\n",
       "      <td>USD</td>\n",
       "    </tr>\n",
       "    <tr>\n",
       "      <th>144</th>\n",
       "      <td>$100,000 USD</td>\n",
       "      <td>100000.0</td>\n",
       "      <td>USD</td>\n",
       "    </tr>\n",
       "    <tr>\n",
       "      <th>145</th>\n",
       "      <td>$100k usd</td>\n",
       "      <td>100000.0</td>\n",
       "      <td>USD</td>\n",
       "    </tr>\n",
       "    <tr>\n",
       "      <th>146</th>\n",
       "      <td>650.000 NOK / year</td>\n",
       "      <td>650000.0</td>\n",
       "      <td>NOK</td>\n",
       "    </tr>\n",
       "    <tr>\n",
       "      <th>147</th>\n",
       "      <td>R$9500/mo</td>\n",
       "      <td>114000.0</td>\n",
       "      <td>USD</td>\n",
       "    </tr>\n",
       "    <tr>\n",
       "      <th>148</th>\n",
       "      <td>60k USD anually</td>\n",
       "      <td>60000.0</td>\n",
       "      <td>USD</td>\n",
       "    </tr>\n",
       "    <tr>\n",
       "      <th>149</th>\n",
       "      <td>90k euro</td>\n",
       "      <td>90000.0</td>\n",
       "      <td>EUR</td>\n",
       "    </tr>\n",
       "    <tr>\n",
       "      <th>150</th>\n",
       "      <td>46,5K€</td>\n",
       "      <td>465.0</td>\n",
       "      <td>EUR</td>\n",
       "    </tr>\n",
       "    <tr>\n",
       "      <th>151</th>\n",
       "      <td>$140,000</td>\n",
       "      <td>140000.0</td>\n",
       "      <td>USD</td>\n",
       "    </tr>\n",
       "    <tr>\n",
       "      <th>152</th>\n",
       "      <td>6. Manufacturing/Chemicals</td>\n",
       "      <td>6.0</td>\n",
       "      <td>USD</td>\n",
       "    </tr>\n",
       "    <tr>\n",
       "      <th>153</th>\n",
       "      <td>£120k</td>\n",
       "      <td>120000.0</td>\n",
       "      <td>GBP</td>\n",
       "    </tr>\n",
       "    <tr>\n",
       "      <th>154</th>\n",
       "      <td>Completely Remote.</td>\n",
       "      <td>NaN</td>\n",
       "      <td>USD</td>\n",
       "    </tr>\n",
       "    <tr>\n",
       "      <th>155</th>\n",
       "      <td>$80 per hour</td>\n",
       "      <td>80.0</td>\n",
       "      <td>USD</td>\n",
       "    </tr>\n",
       "    <tr>\n",
       "      <th>156</th>\n",
       "      <td>170k USD</td>\n",
       "      <td>170000.0</td>\n",
       "      <td>USD</td>\n",
       "    </tr>\n",
       "    <tr>\n",
       "      <th>157</th>\n",
       "      <td>19400 €</td>\n",
       "      <td>19400.0</td>\n",
       "      <td>EUR</td>\n",
       "    </tr>\n",
       "    <tr>\n",
       "      <th>158</th>\n",
       "      <td>$65k USD</td>\n",
       "      <td>65000.0</td>\n",
       "      <td>USD</td>\n",
       "    </tr>\n",
       "    <tr>\n",
       "      <th>159</th>\n",
       "      <td>$135k base</td>\n",
       "      <td>135000.0</td>\n",
       "      <td>USD</td>\n",
       "    </tr>\n",
       "  </tbody>\n",
       "</table>\n",
       "</div>"
      ],
      "text/plain": [
       "                                       salary  salary_clean salary_currency\n",
       "100                $220k annual equity target      220000.0             USD\n",
       "101                          160,000 USD base      160000.0             USD\n",
       "102                                93,000 CHF       93000.0             CHF\n",
       "103      120k USD FTE and side work at $55/hr      120000.0             USD\n",
       "104                                $110k base      110000.0             USD\n",
       "105                                  72k Base       72000.0             USD\n",
       "106                                     £48K        48000.0             GBP\n",
       "107                                   90k CAD       90000.0             CAD\n",
       "108                         $137,000 USD Base      137000.0             USD\n",
       "109                                  ~$70.000          70.0             USD\n",
       "110                                 ~180k CAD      180000.0             CAD\n",
       "111                                       90k       90000.0             USD\n",
       "112  41k GBP / 56.k USD / 47.7k Euros salary.     4156000.0             EUR\n",
       "113                               Kansas City           NaN             USD\n",
       "114                              25k Base USD       25000.0             USD\n",
       "115                                 140k base      140000.0             USD\n",
       "116   45k EUR/year for 32hours/week part-time       45000.0             EUR\n",
       "117                                $200k base      200000.0             USD\n",
       "118             AUD $110,000 + superannuation      110000.0             AUD\n",
       "119                                   CA$160K      160000.0             USD\n",
       "120                                 90k usd .       90000.0             USD\n",
       "121                                     $145k      145000.0             USD\n",
       "122                                   45k USD       45000.0             USD\n",
       "123                                     $123k      123000.0             USD\n",
       "124                                  190k USD      190000.0             USD\n",
       "125                               90K salary        90000.0             USD\n",
       "126                                   90k CAD       90000.0             CAD\n",
       "127                                      205K      205000.0             USD\n",
       "128                                    95k/yr       95000.0             USD\n",
       "129                                   39k USD       39000.0             USD\n",
       "130                                Base: $90k       90000.0             USD\n",
       "131                                 $133k USD      133000.0             USD\n",
       "132                                   80k CAD       80000.0             CAD\n",
       "133                              $140,000 USD      140000.0             USD\n",
       "134                                   $80,000       80000.0             USD\n",
       "135                             $178,000 CAD       178000.0             CAD\n",
       "136                                    72.00€          72.0             EUR\n",
       "137                                  53,000€        53000.0             EUR\n",
       "138                               120,000 USD      120000.0             USD\n",
       "139                   Base salary - $150k USD           NaN             USD\n",
       "140  100k. Hourly. No other benefits provided      100000.0             USD\n",
       "141                                 $180k USD      180000.0             USD\n",
       "142                               160,000 USD      160000.0             USD\n",
       "143                                      117k      117000.0             USD\n",
       "144                              $100,000 USD      100000.0             USD\n",
       "145                                 $100k usd      100000.0             USD\n",
       "146                        650.000 NOK / year      650000.0             NOK\n",
       "147                                 R$9500/mo      114000.0             USD\n",
       "148                           60k USD anually       60000.0             USD\n",
       "149                                  90k euro       90000.0             EUR\n",
       "150                                    46,5K€         465.0             EUR\n",
       "151                                  $140,000      140000.0             USD\n",
       "152                6. Manufacturing/Chemicals           6.0             USD\n",
       "153                                    £120k       120000.0             GBP\n",
       "154                       Completely Remote.            NaN             USD\n",
       "155                              $80 per hour          80.0             USD\n",
       "156                                  170k USD      170000.0             USD\n",
       "157                                  19400 €        19400.0             EUR\n",
       "158                                  $65k USD       65000.0             USD\n",
       "159                                $135k base      135000.0             USD"
      ]
     },
     "execution_count": 13,
     "metadata": {},
     "output_type": "execute_result"
    }
   ],
   "source": [
    "# if salary contains currency symbol eg EUR GBP USD AUD INR then extract it\n",
    "df['salary_currency'] = df.salary.where(\n",
    "    df.salary.str.contains(\"$\") == False, \"USD\").where(\n",
    "        df.salary.str.contains(\"USD\") == False, \"USD\").where(\n",
    "            df.salary.str.contains(\"US\") == False, \"USD\").where(\n",
    "                df.salary.str.contains(\"\\$\") == False, \"USD\").where(\n",
    "                    df.salary.str.contains(\"usd\") == False, \"USD\").where(\n",
    "                        df.salary.str.contains(\"GBP\") == False, \"GBP\").where(\n",
    "                            df.salary.str.contains(\"£\") == False, \"GBP\").where(\n",
    "                                df.salary.str.contains(\"AUD\") == False, \"AUD\").where(\n",
    "                                    df.salary.str.contains(\"INR\") == False, \"INR\").where(\n",
    "                                        df.salary.str.contains(\"EUR\") == False, \"EUR\").where(\n",
    "                                            df.salary.str.contains(\"Euro\") == False, \"EUR\").where(\n",
    "                                                df.salary.str.contains(\"euro\") == False, \"EUR\").where(\n",
    "                                                    df.salary.str.contains(\"€\") == False, \"EUR\").where(\n",
    "                                                        df.salary.str.contains(\"CAD\") == False, \"CAD\").where(\n",
    "                                                            df.salary.str.contains(\"Rupee\") == False, \"INR\").where(\n",
    "                                                                df.salary.str.contains(\"Lakh\") == False, \"INR\").where(\n",
    "                                                                df.salary.str.contains(\"CHF\") == False, \"CHF\").where(\n",
    "                                                                    df.salary.str.contains(\"NOK\") == False, \"NOK\").where(\n",
    "                                                                        df.salary.str.contains(\"HKD\") == False, \"HKD\").where(\n",
    "                                                                            df.salary.str.contains(\"MXN\") == False, \"MXN\").where(\n",
    "                                                                                df.salary.str.contains(\"PHP\") == False, \"PHP\").where(\n",
    "                                                                                    df.salary.str.contains(\"COP\") == False, \"COP\")\n",
    "\n",
    "                                                            \n",
    "\n",
    "# view only salary and salary_clean\n",
    "df[['salary', 'salary_clean', 'salary_currency']].iloc[100:160, :]\n"
   ]
  },
  {
   "cell_type": "code",
   "execution_count": 14,
   "metadata": {},
   "outputs": [
    {
     "data": {
      "text/html": [
       "<div>\n",
       "<style scoped>\n",
       "    .dataframe tbody tr th:only-of-type {\n",
       "        vertical-align: middle;\n",
       "    }\n",
       "\n",
       "    .dataframe tbody tr th {\n",
       "        vertical-align: top;\n",
       "    }\n",
       "\n",
       "    .dataframe thead th {\n",
       "        text-align: right;\n",
       "    }\n",
       "</style>\n",
       "<table border=\"1\" class=\"dataframe\">\n",
       "  <thead>\n",
       "    <tr style=\"text-align: right;\">\n",
       "      <th></th>\n",
       "      <th>date</th>\n",
       "      <th>title</th>\n",
       "      <th>experience</th>\n",
       "      <th>location</th>\n",
       "      <th>salary</th>\n",
       "      <th>bonus</th>\n",
       "      <th>industry</th>\n",
       "      <th>benefits</th>\n",
       "      <th>experience_pre_clean</th>\n",
       "      <th>experience_clean</th>\n",
       "      <th>salary_clean</th>\n",
       "    </tr>\n",
       "    <tr>\n",
       "      <th>salary_currency</th>\n",
       "      <th></th>\n",
       "      <th></th>\n",
       "      <th></th>\n",
       "      <th></th>\n",
       "      <th></th>\n",
       "      <th></th>\n",
       "      <th></th>\n",
       "      <th></th>\n",
       "      <th></th>\n",
       "      <th></th>\n",
       "      <th></th>\n",
       "    </tr>\n",
       "  </thead>\n",
       "  <tbody>\n",
       "    <tr>\n",
       "      <th>USD</th>\n",
       "      <td>214</td>\n",
       "      <td>214</td>\n",
       "      <td>214</td>\n",
       "      <td>214</td>\n",
       "      <td>214</td>\n",
       "      <td>197</td>\n",
       "      <td>168</td>\n",
       "      <td>53</td>\n",
       "      <td>214</td>\n",
       "      <td>187</td>\n",
       "      <td>199</td>\n",
       "    </tr>\n",
       "    <tr>\n",
       "      <th>EUR</th>\n",
       "      <td>26</td>\n",
       "      <td>26</td>\n",
       "      <td>26</td>\n",
       "      <td>26</td>\n",
       "      <td>26</td>\n",
       "      <td>25</td>\n",
       "      <td>22</td>\n",
       "      <td>7</td>\n",
       "      <td>26</td>\n",
       "      <td>24</td>\n",
       "      <td>25</td>\n",
       "    </tr>\n",
       "    <tr>\n",
       "      <th>GBP</th>\n",
       "      <td>25</td>\n",
       "      <td>25</td>\n",
       "      <td>25</td>\n",
       "      <td>25</td>\n",
       "      <td>25</td>\n",
       "      <td>23</td>\n",
       "      <td>18</td>\n",
       "      <td>10</td>\n",
       "      <td>25</td>\n",
       "      <td>23</td>\n",
       "      <td>21</td>\n",
       "    </tr>\n",
       "    <tr>\n",
       "      <th>CAD</th>\n",
       "      <td>15</td>\n",
       "      <td>15</td>\n",
       "      <td>15</td>\n",
       "      <td>15</td>\n",
       "      <td>15</td>\n",
       "      <td>14</td>\n",
       "      <td>12</td>\n",
       "      <td>6</td>\n",
       "      <td>15</td>\n",
       "      <td>15</td>\n",
       "      <td>15</td>\n",
       "    </tr>\n",
       "    <tr>\n",
       "      <th>COP</th>\n",
       "      <td>8</td>\n",
       "      <td>8</td>\n",
       "      <td>8</td>\n",
       "      <td>8</td>\n",
       "      <td>2</td>\n",
       "      <td>2</td>\n",
       "      <td>2</td>\n",
       "      <td>1</td>\n",
       "      <td>8</td>\n",
       "      <td>2</td>\n",
       "      <td>1</td>\n",
       "    </tr>\n",
       "    <tr>\n",
       "      <th>INR</th>\n",
       "      <td>6</td>\n",
       "      <td>6</td>\n",
       "      <td>6</td>\n",
       "      <td>6</td>\n",
       "      <td>6</td>\n",
       "      <td>3</td>\n",
       "      <td>2</td>\n",
       "      <td>0</td>\n",
       "      <td>6</td>\n",
       "      <td>5</td>\n",
       "      <td>6</td>\n",
       "    </tr>\n",
       "    <tr>\n",
       "      <th>AUD</th>\n",
       "      <td>5</td>\n",
       "      <td>5</td>\n",
       "      <td>5</td>\n",
       "      <td>5</td>\n",
       "      <td>5</td>\n",
       "      <td>3</td>\n",
       "      <td>3</td>\n",
       "      <td>1</td>\n",
       "      <td>5</td>\n",
       "      <td>5</td>\n",
       "      <td>5</td>\n",
       "    </tr>\n",
       "    <tr>\n",
       "      <th>CHF</th>\n",
       "      <td>1</td>\n",
       "      <td>1</td>\n",
       "      <td>1</td>\n",
       "      <td>1</td>\n",
       "      <td>1</td>\n",
       "      <td>1</td>\n",
       "      <td>0</td>\n",
       "      <td>0</td>\n",
       "      <td>1</td>\n",
       "      <td>1</td>\n",
       "      <td>1</td>\n",
       "    </tr>\n",
       "    <tr>\n",
       "      <th>HKD</th>\n",
       "      <td>1</td>\n",
       "      <td>1</td>\n",
       "      <td>1</td>\n",
       "      <td>1</td>\n",
       "      <td>1</td>\n",
       "      <td>0</td>\n",
       "      <td>1</td>\n",
       "      <td>1</td>\n",
       "      <td>1</td>\n",
       "      <td>1</td>\n",
       "      <td>1</td>\n",
       "    </tr>\n",
       "    <tr>\n",
       "      <th>MXN</th>\n",
       "      <td>1</td>\n",
       "      <td>1</td>\n",
       "      <td>1</td>\n",
       "      <td>1</td>\n",
       "      <td>1</td>\n",
       "      <td>1</td>\n",
       "      <td>1</td>\n",
       "      <td>1</td>\n",
       "      <td>1</td>\n",
       "      <td>1</td>\n",
       "      <td>1</td>\n",
       "    </tr>\n",
       "    <tr>\n",
       "      <th>NOK</th>\n",
       "      <td>1</td>\n",
       "      <td>1</td>\n",
       "      <td>1</td>\n",
       "      <td>1</td>\n",
       "      <td>1</td>\n",
       "      <td>1</td>\n",
       "      <td>0</td>\n",
       "      <td>0</td>\n",
       "      <td>1</td>\n",
       "      <td>1</td>\n",
       "      <td>1</td>\n",
       "    </tr>\n",
       "    <tr>\n",
       "      <th>PHP</th>\n",
       "      <td>1</td>\n",
       "      <td>1</td>\n",
       "      <td>1</td>\n",
       "      <td>1</td>\n",
       "      <td>1</td>\n",
       "      <td>1</td>\n",
       "      <td>1</td>\n",
       "      <td>0</td>\n",
       "      <td>1</td>\n",
       "      <td>1</td>\n",
       "      <td>1</td>\n",
       "    </tr>\n",
       "  </tbody>\n",
       "</table>\n",
       "</div>"
      ],
      "text/plain": [
       "                 date  title  experience  location  salary  bonus  industry  \\\n",
       "salary_currency                                                               \n",
       "USD               214    214         214       214     214    197       168   \n",
       "EUR                26     26          26        26      26     25        22   \n",
       "GBP                25     25          25        25      25     23        18   \n",
       "CAD                15     15          15        15      15     14        12   \n",
       "COP                 8      8           8         8       2      2         2   \n",
       "INR                 6      6           6         6       6      3         2   \n",
       "AUD                 5      5           5         5       5      3         3   \n",
       "CHF                 1      1           1         1       1      1         0   \n",
       "HKD                 1      1           1         1       1      0         1   \n",
       "MXN                 1      1           1         1       1      1         1   \n",
       "NOK                 1      1           1         1       1      1         0   \n",
       "PHP                 1      1           1         1       1      1         1   \n",
       "\n",
       "                 benefits  experience_pre_clean  experience_clean  \\\n",
       "salary_currency                                                     \n",
       "USD                    53                   214               187   \n",
       "EUR                     7                    26                24   \n",
       "GBP                    10                    25                23   \n",
       "CAD                     6                    15                15   \n",
       "COP                     1                     8                 2   \n",
       "INR                     0                     6                 5   \n",
       "AUD                     1                     5                 5   \n",
       "CHF                     0                     1                 1   \n",
       "HKD                     1                     1                 1   \n",
       "MXN                     1                     1                 1   \n",
       "NOK                     0                     1                 1   \n",
       "PHP                     0                     1                 1   \n",
       "\n",
       "                 salary_clean  \n",
       "salary_currency                \n",
       "USD                       199  \n",
       "EUR                        25  \n",
       "GBP                        21  \n",
       "CAD                        15  \n",
       "COP                         1  \n",
       "INR                         6  \n",
       "AUD                         5  \n",
       "CHF                         1  \n",
       "HKD                         1  \n",
       "MXN                         1  \n",
       "NOK                         1  \n",
       "PHP                         1  "
      ]
     },
     "execution_count": 14,
     "metadata": {},
     "output_type": "execute_result"
    }
   ],
   "source": [
    "# group df by salary_currency and count the number of rows\n",
    "df.groupby('salary_currency').count().sort_values(by='date', ascending=False)\n"
   ]
  },
  {
   "cell_type": "code",
   "execution_count": 15,
   "metadata": {},
   "outputs": [
    {
     "data": {
      "text/html": [
       "<div>\n",
       "<style scoped>\n",
       "    .dataframe tbody tr th:only-of-type {\n",
       "        vertical-align: middle;\n",
       "    }\n",
       "\n",
       "    .dataframe tbody tr th {\n",
       "        vertical-align: top;\n",
       "    }\n",
       "\n",
       "    .dataframe thead th {\n",
       "        text-align: right;\n",
       "    }\n",
       "</style>\n",
       "<table border=\"1\" class=\"dataframe\">\n",
       "  <thead>\n",
       "    <tr style=\"text-align: right;\">\n",
       "      <th></th>\n",
       "      <th>date</th>\n",
       "      <th>title</th>\n",
       "      <th>experience</th>\n",
       "      <th>location</th>\n",
       "      <th>salary</th>\n",
       "      <th>bonus</th>\n",
       "      <th>industry</th>\n",
       "      <th>benefits</th>\n",
       "      <th>experience_pre_clean</th>\n",
       "      <th>experience_clean</th>\n",
       "      <th>salary_clean</th>\n",
       "      <th>salary_currency</th>\n",
       "    </tr>\n",
       "  </thead>\n",
       "  <tbody>\n",
       "    <tr>\n",
       "      <th>287</th>\n",
       "      <td>2022-06-01</td>\n",
       "      <td>data engineer</td>\n",
       "      <td>3 yoe</td>\n",
       "      <td>manila, philippines</td>\n",
       "      <td>780k PHP or 15.6k USD</td>\n",
       "      <td>65k php or 1.3k usd</td>\n",
       "      <td>python, sql, rds, dms, kinesis, lambda , s3, g...</td>\n",
       "      <td>NaN</td>\n",
       "      <td>3 yoe</td>\n",
       "      <td>3.0</td>\n",
       "      <td>780000.0</td>\n",
       "      <td>PHP</td>\n",
       "    </tr>\n",
       "  </tbody>\n",
       "</table>\n",
       "</div>"
      ],
      "text/plain": [
       "           date          title experience             location  \\\n",
       "287  2022-06-01  data engineer      3 yoe  manila, philippines   \n",
       "\n",
       "                    salary                bonus  \\\n",
       "287  780k PHP or 15.6k USD  65k php or 1.3k usd   \n",
       "\n",
       "                                              industry benefits  \\\n",
       "287  python, sql, rds, dms, kinesis, lambda , s3, g...      NaN   \n",
       "\n",
       "    experience_pre_clean  experience_clean  salary_clean salary_currency  \n",
       "287                3 yoe               3.0      780000.0             PHP  "
      ]
     },
     "execution_count": 15,
     "metadata": {},
     "output_type": "execute_result"
    }
   ],
   "source": [
    "df[df['salary_currency']=='PHP']"
   ]
  },
  {
   "cell_type": "code",
   "execution_count": 16,
   "metadata": {},
   "outputs": [],
   "source": [
    "from forex_python.converter import CurrencyRates\n",
    "# get current fx rates for USD to EUR GBP CAD HKD AUD INR CHF NOK\n",
    "fx = CurrencyRates()\n",
    "rates = fx.get_rates('USD')\n",
    "\n",
    "# convert rates to df\n",
    "rates_df = pd.DataFrame(rates, index=[0])\n",
    "# swap columns and rows\n",
    "rates_df = rates_df.T\n",
    "rates_df.columns = ['FX']\n",
    "#add row for USD to USD\n",
    "rates_df.loc['USD'] = 1\n",
    "\n",
    "# join rates_df to df on currency, using left join\n",
    "\n",
    "df_joined = pd.merge(df, rates_df, left_on='salary_currency', right_index=True, how='left')"
   ]
  },
  {
   "cell_type": "code",
   "execution_count": 17,
   "metadata": {},
   "outputs": [],
   "source": [
    "# calculate salary_usd by multiplying salary_clean by fx\n",
    "df_joined['salary_usd'] = df_joined.salary_clean / df_joined.FX"
   ]
  },
  {
   "cell_type": "code",
   "execution_count": 18,
   "metadata": {},
   "outputs": [
    {
     "data": {
      "application/vnd.plotly.v1+json": {
       "config": {
        "plotlyServerURL": "https://plot.ly"
       },
       "data": [
        {
         "alignmentgroup": "True",
         "bingroup": "x",
         "hovertemplate": "salary_usd=%{x}<br>count=%{y}<extra></extra>",
         "legendgroup": "",
         "marker": {
          "color": "#636efa",
          "pattern": {
           "shape": ""
          }
         },
         "name": "",
         "nbinsx": 100,
         "offsetgroup": "",
         "orientation": "v",
         "showlegend": false,
         "type": "histogram",
         "x": [
          150000,
          130000,
          38901.227352425485,
          15000,
          125000,
          114400.00000000001,
          500000,
          140000,
          49954.12250829797,
          152500,
          48.731508133074506,
          100000,
          95000,
          88000,
          60000,
          135000,
          81000,
          195000,
          115000,
          null,
          145000,
          81120,
          400000,
          17932.24910554286,
          1100,
          125000,
          68077.14786674459,
          90000,
          100000,
          52000.00000000001,
          118000,
          125000,
          90000,
          175000,
          93600.00000000001,
          11527.87442499184,
          67.60000000000001,
          50000,
          3895140680.7111316,
          83200.00000000001,
          100000,
          62000,
          91174.75160724722,
          80000,
          87000,
          140000,
          125000,
          90000,
          125000,
          110000,
          190000,
          130000,
          94000,
          150000,
          117000,
          107000,
          165000,
          50000,
          15000,
          120000,
          60783.16773816482,
          null,
          107000,
          90000,
          110000,
          130000,
          135000,
          39312,
          100000,
          76000,
          145000,
          48626.53419053186,
          190000,
          110000,
          170000,
          150000,
          null,
          140000,
          85000,
          130000,
          52000.00000000001,
          90,
          100000,
          42000,
          170000,
          140000,
          155000,
          66605496.67773063,
          145000,
          105000,
          105000,
          null,
          186000,
          104417.67068273092,
          58783.28127324111,
          115000,
          132000,
          65000,
          180000,
          165000,
          220000,
          160000,
          95365.80556103332,
          120000,
          110000,
          72000,
          58351.84102863823,
          69611.78045515394,
          137000,
          70,
          139223.5609103079,
          90000,
          4322240,
          null,
          25000,
          140000,
          46800.00000000001,
          200000,
          76578.08420911708,
          160000,
          90000,
          145000,
          45000,
          123000,
          190000,
          90000,
          69611.78045515394,
          205000,
          95000,
          39000,
          90000,
          133000,
          61877.138182359064,
          140000,
          80000,
          137676.6324557489,
          74.88000000000001,
          55120.00000000001,
          120000,
          null,
          100000,
          180000,
          160000,
          117000,
          100000,
          100000,
          64634.566107010374,
          114000,
          60000,
          93600.00000000001,
          483.6,
          140000,
          6,
          145879.60257159558,
          null,
          80,
          170000,
          20176,
          65000,
          135000,
          115000,
          105000,
          27000,
          95000,
          18000,
          62400.00000000001,
          170000,
          32000,
          95000,
          90000,
          73000,
          105000,
          null,
          132000,
          65439.45377870005,
          160000,
          130000,
          81000,
          36400,
          180000,
          125000,
          120000,
          85000,
          610003000,
          36469.900642898894,
          70508.47457627118,
          100000,
          130000,
          120000,
          80000,
          79018.11805961427,
          144000,
          103331.38515488019,
          265000,
          22000,
          130182.74315549903,
          null,
          60000,
          162427.48772869253,
          null,
          null,
          18,
          200000,
          121566.33547632964,
          190000,
          80000,
          145000,
          null,
          null,
          null,
          17194.498283632627,
          57200.00000000001,
          175000,
          71158.70890971292,
          65645.821157218,
          55693.152152085146,
          110000,
          89440.00000000001,
          null,
          null,
          110000,
          null,
          88000,
          136000,
          65744.4593187565,
          150000,
          65000,
          null,
          152000,
          85.09643483343075,
          115000,
          110000,
          114652.49026188784,
          137676.6324557489,
          120000,
          205000,
          null,
          42000,
          null,
          null,
          132000,
          66861.4845119813,
          70000,
          83200.00000000001,
          68640,
          82000,
          100000,
          83000,
          6000,
          null,
          150000,
          130000,
          180000,
          null,
          110000,
          69611.78045515394,
          63214.49444769141,
          145000,
          36469.900642898894,
          null,
          null,
          100000,
          76586.79135008767,
          15370499.233322453,
          null,
          63500,
          145000,
          100000,
          69292.81122150789,
          61300,
          95000,
          95000,
          12480.000000000002,
          145879.60257159558,
          100000,
          110000,
          104000.00000000001,
          8500000,
          null,
          110000,
          88948.38613714116,
          145000,
          175000,
          140000,
          51000,
          83000,
          152000,
          14563.734290843806,
          88000,
          100000,
          null,
          60000,
          22464.000000000004,
          54142.49590956418,
          190000,
          140000,
          27456.000000000004,
          190000,
          69611.78045515394,
          165000,
          102000,
          97253.06838106371,
          145000,
          87000
         ],
         "xaxis": "x",
         "yaxis": "y"
        }
       ],
       "layout": {
        "barmode": "relative",
        "legend": {
         "tracegroupgap": 0
        },
        "margin": {
         "t": 60
        },
        "template": {
         "data": {
          "bar": [
           {
            "error_x": {
             "color": "#2a3f5f"
            },
            "error_y": {
             "color": "#2a3f5f"
            },
            "marker": {
             "line": {
              "color": "#E5ECF6",
              "width": 0.5
             },
             "pattern": {
              "fillmode": "overlay",
              "size": 10,
              "solidity": 0.2
             }
            },
            "type": "bar"
           }
          ],
          "barpolar": [
           {
            "marker": {
             "line": {
              "color": "#E5ECF6",
              "width": 0.5
             },
             "pattern": {
              "fillmode": "overlay",
              "size": 10,
              "solidity": 0.2
             }
            },
            "type": "barpolar"
           }
          ],
          "carpet": [
           {
            "aaxis": {
             "endlinecolor": "#2a3f5f",
             "gridcolor": "white",
             "linecolor": "white",
             "minorgridcolor": "white",
             "startlinecolor": "#2a3f5f"
            },
            "baxis": {
             "endlinecolor": "#2a3f5f",
             "gridcolor": "white",
             "linecolor": "white",
             "minorgridcolor": "white",
             "startlinecolor": "#2a3f5f"
            },
            "type": "carpet"
           }
          ],
          "choropleth": [
           {
            "colorbar": {
             "outlinewidth": 0,
             "ticks": ""
            },
            "type": "choropleth"
           }
          ],
          "contour": [
           {
            "colorbar": {
             "outlinewidth": 0,
             "ticks": ""
            },
            "colorscale": [
             [
              0,
              "#0d0887"
             ],
             [
              0.1111111111111111,
              "#46039f"
             ],
             [
              0.2222222222222222,
              "#7201a8"
             ],
             [
              0.3333333333333333,
              "#9c179e"
             ],
             [
              0.4444444444444444,
              "#bd3786"
             ],
             [
              0.5555555555555556,
              "#d8576b"
             ],
             [
              0.6666666666666666,
              "#ed7953"
             ],
             [
              0.7777777777777778,
              "#fb9f3a"
             ],
             [
              0.8888888888888888,
              "#fdca26"
             ],
             [
              1,
              "#f0f921"
             ]
            ],
            "type": "contour"
           }
          ],
          "contourcarpet": [
           {
            "colorbar": {
             "outlinewidth": 0,
             "ticks": ""
            },
            "type": "contourcarpet"
           }
          ],
          "heatmap": [
           {
            "colorbar": {
             "outlinewidth": 0,
             "ticks": ""
            },
            "colorscale": [
             [
              0,
              "#0d0887"
             ],
             [
              0.1111111111111111,
              "#46039f"
             ],
             [
              0.2222222222222222,
              "#7201a8"
             ],
             [
              0.3333333333333333,
              "#9c179e"
             ],
             [
              0.4444444444444444,
              "#bd3786"
             ],
             [
              0.5555555555555556,
              "#d8576b"
             ],
             [
              0.6666666666666666,
              "#ed7953"
             ],
             [
              0.7777777777777778,
              "#fb9f3a"
             ],
             [
              0.8888888888888888,
              "#fdca26"
             ],
             [
              1,
              "#f0f921"
             ]
            ],
            "type": "heatmap"
           }
          ],
          "heatmapgl": [
           {
            "colorbar": {
             "outlinewidth": 0,
             "ticks": ""
            },
            "colorscale": [
             [
              0,
              "#0d0887"
             ],
             [
              0.1111111111111111,
              "#46039f"
             ],
             [
              0.2222222222222222,
              "#7201a8"
             ],
             [
              0.3333333333333333,
              "#9c179e"
             ],
             [
              0.4444444444444444,
              "#bd3786"
             ],
             [
              0.5555555555555556,
              "#d8576b"
             ],
             [
              0.6666666666666666,
              "#ed7953"
             ],
             [
              0.7777777777777778,
              "#fb9f3a"
             ],
             [
              0.8888888888888888,
              "#fdca26"
             ],
             [
              1,
              "#f0f921"
             ]
            ],
            "type": "heatmapgl"
           }
          ],
          "histogram": [
           {
            "marker": {
             "pattern": {
              "fillmode": "overlay",
              "size": 10,
              "solidity": 0.2
             }
            },
            "type": "histogram"
           }
          ],
          "histogram2d": [
           {
            "colorbar": {
             "outlinewidth": 0,
             "ticks": ""
            },
            "colorscale": [
             [
              0,
              "#0d0887"
             ],
             [
              0.1111111111111111,
              "#46039f"
             ],
             [
              0.2222222222222222,
              "#7201a8"
             ],
             [
              0.3333333333333333,
              "#9c179e"
             ],
             [
              0.4444444444444444,
              "#bd3786"
             ],
             [
              0.5555555555555556,
              "#d8576b"
             ],
             [
              0.6666666666666666,
              "#ed7953"
             ],
             [
              0.7777777777777778,
              "#fb9f3a"
             ],
             [
              0.8888888888888888,
              "#fdca26"
             ],
             [
              1,
              "#f0f921"
             ]
            ],
            "type": "histogram2d"
           }
          ],
          "histogram2dcontour": [
           {
            "colorbar": {
             "outlinewidth": 0,
             "ticks": ""
            },
            "colorscale": [
             [
              0,
              "#0d0887"
             ],
             [
              0.1111111111111111,
              "#46039f"
             ],
             [
              0.2222222222222222,
              "#7201a8"
             ],
             [
              0.3333333333333333,
              "#9c179e"
             ],
             [
              0.4444444444444444,
              "#bd3786"
             ],
             [
              0.5555555555555556,
              "#d8576b"
             ],
             [
              0.6666666666666666,
              "#ed7953"
             ],
             [
              0.7777777777777778,
              "#fb9f3a"
             ],
             [
              0.8888888888888888,
              "#fdca26"
             ],
             [
              1,
              "#f0f921"
             ]
            ],
            "type": "histogram2dcontour"
           }
          ],
          "mesh3d": [
           {
            "colorbar": {
             "outlinewidth": 0,
             "ticks": ""
            },
            "type": "mesh3d"
           }
          ],
          "parcoords": [
           {
            "line": {
             "colorbar": {
              "outlinewidth": 0,
              "ticks": ""
             }
            },
            "type": "parcoords"
           }
          ],
          "pie": [
           {
            "automargin": true,
            "type": "pie"
           }
          ],
          "scatter": [
           {
            "fillpattern": {
             "fillmode": "overlay",
             "size": 10,
             "solidity": 0.2
            },
            "type": "scatter"
           }
          ],
          "scatter3d": [
           {
            "line": {
             "colorbar": {
              "outlinewidth": 0,
              "ticks": ""
             }
            },
            "marker": {
             "colorbar": {
              "outlinewidth": 0,
              "ticks": ""
             }
            },
            "type": "scatter3d"
           }
          ],
          "scattercarpet": [
           {
            "marker": {
             "colorbar": {
              "outlinewidth": 0,
              "ticks": ""
             }
            },
            "type": "scattercarpet"
           }
          ],
          "scattergeo": [
           {
            "marker": {
             "colorbar": {
              "outlinewidth": 0,
              "ticks": ""
             }
            },
            "type": "scattergeo"
           }
          ],
          "scattergl": [
           {
            "marker": {
             "colorbar": {
              "outlinewidth": 0,
              "ticks": ""
             }
            },
            "type": "scattergl"
           }
          ],
          "scattermapbox": [
           {
            "marker": {
             "colorbar": {
              "outlinewidth": 0,
              "ticks": ""
             }
            },
            "type": "scattermapbox"
           }
          ],
          "scatterpolar": [
           {
            "marker": {
             "colorbar": {
              "outlinewidth": 0,
              "ticks": ""
             }
            },
            "type": "scatterpolar"
           }
          ],
          "scatterpolargl": [
           {
            "marker": {
             "colorbar": {
              "outlinewidth": 0,
              "ticks": ""
             }
            },
            "type": "scatterpolargl"
           }
          ],
          "scatterternary": [
           {
            "marker": {
             "colorbar": {
              "outlinewidth": 0,
              "ticks": ""
             }
            },
            "type": "scatterternary"
           }
          ],
          "surface": [
           {
            "colorbar": {
             "outlinewidth": 0,
             "ticks": ""
            },
            "colorscale": [
             [
              0,
              "#0d0887"
             ],
             [
              0.1111111111111111,
              "#46039f"
             ],
             [
              0.2222222222222222,
              "#7201a8"
             ],
             [
              0.3333333333333333,
              "#9c179e"
             ],
             [
              0.4444444444444444,
              "#bd3786"
             ],
             [
              0.5555555555555556,
              "#d8576b"
             ],
             [
              0.6666666666666666,
              "#ed7953"
             ],
             [
              0.7777777777777778,
              "#fb9f3a"
             ],
             [
              0.8888888888888888,
              "#fdca26"
             ],
             [
              1,
              "#f0f921"
             ]
            ],
            "type": "surface"
           }
          ],
          "table": [
           {
            "cells": {
             "fill": {
              "color": "#EBF0F8"
             },
             "line": {
              "color": "white"
             }
            },
            "header": {
             "fill": {
              "color": "#C8D4E3"
             },
             "line": {
              "color": "white"
             }
            },
            "type": "table"
           }
          ]
         },
         "layout": {
          "annotationdefaults": {
           "arrowcolor": "#2a3f5f",
           "arrowhead": 0,
           "arrowwidth": 1
          },
          "autotypenumbers": "strict",
          "coloraxis": {
           "colorbar": {
            "outlinewidth": 0,
            "ticks": ""
           }
          },
          "colorscale": {
           "diverging": [
            [
             0,
             "#8e0152"
            ],
            [
             0.1,
             "#c51b7d"
            ],
            [
             0.2,
             "#de77ae"
            ],
            [
             0.3,
             "#f1b6da"
            ],
            [
             0.4,
             "#fde0ef"
            ],
            [
             0.5,
             "#f7f7f7"
            ],
            [
             0.6,
             "#e6f5d0"
            ],
            [
             0.7,
             "#b8e186"
            ],
            [
             0.8,
             "#7fbc41"
            ],
            [
             0.9,
             "#4d9221"
            ],
            [
             1,
             "#276419"
            ]
           ],
           "sequential": [
            [
             0,
             "#0d0887"
            ],
            [
             0.1111111111111111,
             "#46039f"
            ],
            [
             0.2222222222222222,
             "#7201a8"
            ],
            [
             0.3333333333333333,
             "#9c179e"
            ],
            [
             0.4444444444444444,
             "#bd3786"
            ],
            [
             0.5555555555555556,
             "#d8576b"
            ],
            [
             0.6666666666666666,
             "#ed7953"
            ],
            [
             0.7777777777777778,
             "#fb9f3a"
            ],
            [
             0.8888888888888888,
             "#fdca26"
            ],
            [
             1,
             "#f0f921"
            ]
           ],
           "sequentialminus": [
            [
             0,
             "#0d0887"
            ],
            [
             0.1111111111111111,
             "#46039f"
            ],
            [
             0.2222222222222222,
             "#7201a8"
            ],
            [
             0.3333333333333333,
             "#9c179e"
            ],
            [
             0.4444444444444444,
             "#bd3786"
            ],
            [
             0.5555555555555556,
             "#d8576b"
            ],
            [
             0.6666666666666666,
             "#ed7953"
            ],
            [
             0.7777777777777778,
             "#fb9f3a"
            ],
            [
             0.8888888888888888,
             "#fdca26"
            ],
            [
             1,
             "#f0f921"
            ]
           ]
          },
          "colorway": [
           "#636efa",
           "#EF553B",
           "#00cc96",
           "#ab63fa",
           "#FFA15A",
           "#19d3f3",
           "#FF6692",
           "#B6E880",
           "#FF97FF",
           "#FECB52"
          ],
          "font": {
           "color": "#2a3f5f"
          },
          "geo": {
           "bgcolor": "white",
           "lakecolor": "white",
           "landcolor": "#E5ECF6",
           "showlakes": true,
           "showland": true,
           "subunitcolor": "white"
          },
          "hoverlabel": {
           "align": "left"
          },
          "hovermode": "closest",
          "mapbox": {
           "style": "light"
          },
          "paper_bgcolor": "white",
          "plot_bgcolor": "#E5ECF6",
          "polar": {
           "angularaxis": {
            "gridcolor": "white",
            "linecolor": "white",
            "ticks": ""
           },
           "bgcolor": "#E5ECF6",
           "radialaxis": {
            "gridcolor": "white",
            "linecolor": "white",
            "ticks": ""
           }
          },
          "scene": {
           "xaxis": {
            "backgroundcolor": "#E5ECF6",
            "gridcolor": "white",
            "gridwidth": 2,
            "linecolor": "white",
            "showbackground": true,
            "ticks": "",
            "zerolinecolor": "white"
           },
           "yaxis": {
            "backgroundcolor": "#E5ECF6",
            "gridcolor": "white",
            "gridwidth": 2,
            "linecolor": "white",
            "showbackground": true,
            "ticks": "",
            "zerolinecolor": "white"
           },
           "zaxis": {
            "backgroundcolor": "#E5ECF6",
            "gridcolor": "white",
            "gridwidth": 2,
            "linecolor": "white",
            "showbackground": true,
            "ticks": "",
            "zerolinecolor": "white"
           }
          },
          "shapedefaults": {
           "line": {
            "color": "#2a3f5f"
           }
          },
          "ternary": {
           "aaxis": {
            "gridcolor": "white",
            "linecolor": "white",
            "ticks": ""
           },
           "baxis": {
            "gridcolor": "white",
            "linecolor": "white",
            "ticks": ""
           },
           "bgcolor": "#E5ECF6",
           "caxis": {
            "gridcolor": "white",
            "linecolor": "white",
            "ticks": ""
           }
          },
          "title": {
           "x": 0.05
          },
          "xaxis": {
           "automargin": true,
           "gridcolor": "white",
           "linecolor": "white",
           "ticks": "",
           "title": {
            "standoff": 15
           },
           "zerolinecolor": "white",
           "zerolinewidth": 2
          },
          "yaxis": {
           "automargin": true,
           "gridcolor": "white",
           "linecolor": "white",
           "ticks": "",
           "title": {
            "standoff": 15
           },
           "zerolinecolor": "white",
           "zerolinewidth": 2
          }
         }
        },
        "xaxis": {
         "anchor": "y",
         "domain": [
          0,
          1
         ],
         "title": {
          "text": "salary_usd"
         }
        },
        "yaxis": {
         "anchor": "x",
         "domain": [
          0,
          1
         ],
         "title": {
          "text": "count"
         }
        }
       }
      }
     },
     "metadata": {},
     "output_type": "display_data"
    }
   ],
   "source": [
    "import plotly.express as px\n",
    "\n",
    "# plot distribution of salary_usd\n",
    "px.histogram(df_joined, x='salary_usd', nbins=100)"
   ]
  },
  {
   "cell_type": "code",
   "execution_count": 19,
   "metadata": {},
   "outputs": [
    {
     "data": {
      "text/html": [
       "<div>\n",
       "<style scoped>\n",
       "    .dataframe tbody tr th:only-of-type {\n",
       "        vertical-align: middle;\n",
       "    }\n",
       "\n",
       "    .dataframe tbody tr th {\n",
       "        vertical-align: top;\n",
       "    }\n",
       "\n",
       "    .dataframe thead th {\n",
       "        text-align: right;\n",
       "    }\n",
       "</style>\n",
       "<table border=\"1\" class=\"dataframe\">\n",
       "  <thead>\n",
       "    <tr style=\"text-align: right;\">\n",
       "      <th></th>\n",
       "      <th>date</th>\n",
       "      <th>title</th>\n",
       "      <th>experience</th>\n",
       "      <th>location</th>\n",
       "      <th>salary</th>\n",
       "      <th>bonus</th>\n",
       "      <th>industry</th>\n",
       "      <th>benefits</th>\n",
       "      <th>experience_pre_clean</th>\n",
       "      <th>experience_clean</th>\n",
       "      <th>salary_clean</th>\n",
       "      <th>salary_currency</th>\n",
       "      <th>FX</th>\n",
       "      <th>salary_usd</th>\n",
       "    </tr>\n",
       "  </thead>\n",
       "  <tbody>\n",
       "    <tr>\n",
       "      <th>38</th>\n",
       "      <td>2021-06-01</td>\n",
       "      <td>senior data engineer</td>\n",
       "      <td>5-</td>\n",
       "      <td>bangalore, india</td>\n",
       "      <td>30 Lakhs ~41k USD</td>\n",
       "      <td>0</td>\n",
       "      <td>retail</td>\n",
       "      <td>NaN</td>\n",
       "      <td>5-</td>\n",
       "      <td>5.0</td>\n",
       "      <td>3.041000e+11</td>\n",
       "      <td>INR</td>\n",
       "      <td>78.071635</td>\n",
       "      <td>3.895141e+09</td>\n",
       "    </tr>\n",
       "    <tr>\n",
       "      <th>183</th>\n",
       "      <td>2021-12-01</td>\n",
       "      <td>data analyst working on a  change to data engi...</td>\n",
       "      <td>2 years</td>\n",
       "      <td>phoenix, az, usa</td>\n",
       "      <td>$61,000 + 3% 401k match.</td>\n",
       "      <td>none</td>\n",
       "      <td>sales / web hosting</td>\n",
       "      <td>NaN</td>\n",
       "      <td>2 years</td>\n",
       "      <td>2.0</td>\n",
       "      <td>6.100030e+08</td>\n",
       "      <td>USD</td>\n",
       "      <td>1.000000</td>\n",
       "      <td>6.100030e+08</td>\n",
       "    </tr>\n",
       "    <tr>\n",
       "      <th>87</th>\n",
       "      <td>2021-09-01</td>\n",
       "      <td>senior data engineer</td>\n",
       "      <td>location - india</td>\n",
       "      <td>yoe - 7</td>\n",
       "      <td>52 Lakhs INR</td>\n",
       "      <td>NaN</td>\n",
       "      <td>NaN</td>\n",
       "      <td>NaN</td>\n",
       "      <td>location - india</td>\n",
       "      <td>NaN</td>\n",
       "      <td>5.200000e+09</td>\n",
       "      <td>INR</td>\n",
       "      <td>78.071635</td>\n",
       "      <td>6.660550e+07</td>\n",
       "    </tr>\n",
       "    <tr>\n",
       "      <th>263</th>\n",
       "      <td>2022-03-01</td>\n",
       "      <td>data scientist</td>\n",
       "      <td>yoe : 1 year</td>\n",
       "      <td>location: bangalore</td>\n",
       "      <td>Salary: 12 Lakh Rupees</td>\n",
       "      <td>industry: management consultancy</td>\n",
       "      <td>tech stack: aws, pyspark, python, sql, a bit o...</td>\n",
       "      <td>NaN</td>\n",
       "      <td>yoe : 1 year</td>\n",
       "      <td>1.0</td>\n",
       "      <td>1.200000e+09</td>\n",
       "      <td>INR</td>\n",
       "      <td>78.071635</td>\n",
       "      <td>1.537050e+07</td>\n",
       "    </tr>\n",
       "    <tr>\n",
       "      <th>277</th>\n",
       "      <td>2022-06-01</td>\n",
       "      <td>data engineer</td>\n",
       "      <td>making a transition from about 2 years as an o...</td>\n",
       "      <td>lower col area of ohio.</td>\n",
       "      <td>$85K. Adjusting for COL using Nerdwallet this ...</td>\n",
       "      <td>$12,500 bonus on table for first year, normall...</td>\n",
       "      <td>online/direct mail sales and marketing. compan...</td>\n",
       "      <td>i'm told initial focus will be on creating a c...</td>\n",
       "      <td>making a transition from about 2 years as an o...</td>\n",
       "      <td>NaN</td>\n",
       "      <td>8.500000e+06</td>\n",
       "      <td>USD</td>\n",
       "      <td>1.000000</td>\n",
       "      <td>8.500000e+06</td>\n",
       "    </tr>\n",
       "    <tr>\n",
       "      <th>112</th>\n",
       "      <td>2021-09-01</td>\n",
       "      <td>data engineer</td>\n",
       "      <td>6 months experience.</td>\n",
       "      <td>north west england, uk.</td>\n",
       "      <td>41k GBP / 56.k USD / 47.7k Euros salary.</td>\n",
       "      <td>bonuses: unknown, haven't worked here long eno...</td>\n",
       "      <td>financial services.</td>\n",
       "      <td>NaN</td>\n",
       "      <td>6 months experience.</td>\n",
       "      <td>0.5</td>\n",
       "      <td>4.156000e+06</td>\n",
       "      <td>EUR</td>\n",
       "      <td>0.961538</td>\n",
       "      <td>4.322240e+06</td>\n",
       "    </tr>\n",
       "    <tr>\n",
       "      <th>6</th>\n",
       "      <td>2021-06-01</td>\n",
       "      <td>senior data engineer</td>\n",
       "      <td>5</td>\n",
       "      <td>remote, nyc</td>\n",
       "      <td>$500k</td>\n",
       "      <td>$0</td>\n",
       "      <td>tech</td>\n",
       "      <td>NaN</td>\n",
       "      <td>5</td>\n",
       "      <td>5.0</td>\n",
       "      <td>5.000000e+05</td>\n",
       "      <td>USD</td>\n",
       "      <td>1.000000</td>\n",
       "      <td>5.000000e+05</td>\n",
       "    </tr>\n",
       "    <tr>\n",
       "      <th>22</th>\n",
       "      <td>2021-06-01</td>\n",
       "      <td>analytics manager</td>\n",
       "      <td>8-9 current field</td>\n",
       "      <td>bay area</td>\n",
       "      <td>400k/yr USD</td>\n",
       "      <td>NaN</td>\n",
       "      <td>NaN</td>\n",
       "      <td>NaN</td>\n",
       "      <td>8-9 current field</td>\n",
       "      <td>NaN</td>\n",
       "      <td>4.000000e+05</td>\n",
       "      <td>USD</td>\n",
       "      <td>1.000000</td>\n",
       "      <td>4.000000e+05</td>\n",
       "    </tr>\n",
       "  </tbody>\n",
       "</table>\n",
       "</div>"
      ],
      "text/plain": [
       "           date                                              title  \\\n",
       "38   2021-06-01                               senior data engineer   \n",
       "183  2021-12-01  data analyst working on a  change to data engi...   \n",
       "87   2021-09-01                               senior data engineer   \n",
       "263  2022-03-01                                     data scientist   \n",
       "277  2022-06-01                                      data engineer   \n",
       "112  2021-09-01                                      data engineer   \n",
       "6    2021-06-01                               senior data engineer   \n",
       "22   2021-06-01                                  analytics manager   \n",
       "\n",
       "                                            experience  \\\n",
       "38                                                  5-   \n",
       "183                                            2 years   \n",
       "87                                    location - india   \n",
       "263                                       yoe : 1 year   \n",
       "277  making a transition from about 2 years as an o...   \n",
       "112                               6 months experience.   \n",
       "6                                                    5   \n",
       "22                                  8-9 current field    \n",
       "\n",
       "                    location  \\\n",
       "38          bangalore, india   \n",
       "183         phoenix, az, usa   \n",
       "87                   yoe - 7   \n",
       "263     location: bangalore    \n",
       "277  lower col area of ohio.   \n",
       "112  north west england, uk.   \n",
       "6                remote, nyc   \n",
       "22                  bay area   \n",
       "\n",
       "                                                salary  \\\n",
       "38                                   30 Lakhs ~41k USD   \n",
       "183                           $61,000 + 3% 401k match.   \n",
       "87                                       52 Lakhs INR    \n",
       "263                             Salary: 12 Lakh Rupees   \n",
       "277  $85K. Adjusting for COL using Nerdwallet this ...   \n",
       "112           41k GBP / 56.k USD / 47.7k Euros salary.   \n",
       "6                                                $500k   \n",
       "22                                        400k/yr USD    \n",
       "\n",
       "                                                 bonus  \\\n",
       "38                                                   0   \n",
       "183                                               none   \n",
       "87                                                 NaN   \n",
       "263                  industry: management consultancy    \n",
       "277  $12,500 bonus on table for first year, normall...   \n",
       "112  bonuses: unknown, haven't worked here long eno...   \n",
       "6                                                   $0   \n",
       "22                                                 NaN   \n",
       "\n",
       "                                              industry  \\\n",
       "38                                              retail   \n",
       "183                                sales / web hosting   \n",
       "87                                                 NaN   \n",
       "263  tech stack: aws, pyspark, python, sql, a bit o...   \n",
       "277  online/direct mail sales and marketing. compan...   \n",
       "112                                financial services.   \n",
       "6                                                 tech   \n",
       "22                                                 NaN   \n",
       "\n",
       "                                              benefits  \\\n",
       "38                                                 NaN   \n",
       "183                                                NaN   \n",
       "87                                                 NaN   \n",
       "263                                                NaN   \n",
       "277  i'm told initial focus will be on creating a c...   \n",
       "112                                                NaN   \n",
       "6                                                  NaN   \n",
       "22                                                 NaN   \n",
       "\n",
       "                                  experience_pre_clean  experience_clean  \\\n",
       "38                                                  5-               5.0   \n",
       "183                                            2 years               2.0   \n",
       "87                                    location - india               NaN   \n",
       "263                                       yoe : 1 year               1.0   \n",
       "277  making a transition from about 2 years as an o...               NaN   \n",
       "112                               6 months experience.               0.5   \n",
       "6                                                    5               5.0   \n",
       "22                                  8-9 current field                NaN   \n",
       "\n",
       "     salary_clean salary_currency         FX    salary_usd  \n",
       "38   3.041000e+11             INR  78.071635  3.895141e+09  \n",
       "183  6.100030e+08             USD   1.000000  6.100030e+08  \n",
       "87   5.200000e+09             INR  78.071635  6.660550e+07  \n",
       "263  1.200000e+09             INR  78.071635  1.537050e+07  \n",
       "277  8.500000e+06             USD   1.000000  8.500000e+06  \n",
       "112  4.156000e+06             EUR   0.961538  4.322240e+06  \n",
       "6    5.000000e+05             USD   1.000000  5.000000e+05  \n",
       "22   4.000000e+05             USD   1.000000  4.000000e+05  "
      ]
     },
     "execution_count": 19,
     "metadata": {},
     "output_type": "execute_result"
    }
   ],
   "source": [
    "df_joined.loc[df_joined.salary_usd > 300000, :].sort_values(by='salary_usd', ascending=False)"
   ]
  },
  {
   "cell_type": "code",
   "execution_count": 20,
   "metadata": {},
   "outputs": [],
   "source": [
    "# if salary_usd > 600,000 then replace with NaN\n",
    "df_joined['salary_usd'] = df_joined.salary_usd.where(df_joined['salary_usd']<600000, None)"
   ]
  },
  {
   "cell_type": "code",
   "execution_count": 21,
   "metadata": {},
   "outputs": [
    {
     "data": {
      "text/html": [
       "<div>\n",
       "<style scoped>\n",
       "    .dataframe tbody tr th:only-of-type {\n",
       "        vertical-align: middle;\n",
       "    }\n",
       "\n",
       "    .dataframe tbody tr th {\n",
       "        vertical-align: top;\n",
       "    }\n",
       "\n",
       "    .dataframe thead th {\n",
       "        text-align: right;\n",
       "    }\n",
       "</style>\n",
       "<table border=\"1\" class=\"dataframe\">\n",
       "  <thead>\n",
       "    <tr style=\"text-align: right;\">\n",
       "      <th></th>\n",
       "      <th>date</th>\n",
       "      <th>title</th>\n",
       "      <th>experience</th>\n",
       "      <th>location</th>\n",
       "      <th>salary</th>\n",
       "      <th>bonus</th>\n",
       "      <th>industry</th>\n",
       "      <th>benefits</th>\n",
       "      <th>experience_pre_clean</th>\n",
       "      <th>experience_clean</th>\n",
       "      <th>salary_clean</th>\n",
       "      <th>salary_currency</th>\n",
       "      <th>FX</th>\n",
       "      <th>salary_usd</th>\n",
       "    </tr>\n",
       "  </thead>\n",
       "  <tbody>\n",
       "    <tr>\n",
       "      <th>6</th>\n",
       "      <td>2021-06-01</td>\n",
       "      <td>senior data engineer</td>\n",
       "      <td>5</td>\n",
       "      <td>remote, nyc</td>\n",
       "      <td>$500k</td>\n",
       "      <td>$0</td>\n",
       "      <td>tech</td>\n",
       "      <td>NaN</td>\n",
       "      <td>5</td>\n",
       "      <td>5.0</td>\n",
       "      <td>500000.0</td>\n",
       "      <td>USD</td>\n",
       "      <td>1.0</td>\n",
       "      <td>500000.0</td>\n",
       "    </tr>\n",
       "    <tr>\n",
       "      <th>22</th>\n",
       "      <td>2021-06-01</td>\n",
       "      <td>analytics manager</td>\n",
       "      <td>8-9 current field</td>\n",
       "      <td>bay area</td>\n",
       "      <td>400k/yr USD</td>\n",
       "      <td>NaN</td>\n",
       "      <td>NaN</td>\n",
       "      <td>NaN</td>\n",
       "      <td>8-9 current field</td>\n",
       "      <td>NaN</td>\n",
       "      <td>400000.0</td>\n",
       "      <td>USD</td>\n",
       "      <td>1.0</td>\n",
       "      <td>400000.0</td>\n",
       "    </tr>\n",
       "  </tbody>\n",
       "</table>\n",
       "</div>"
      ],
      "text/plain": [
       "          date                 title          experience     location  \\\n",
       "6   2021-06-01  senior data engineer                   5  remote, nyc   \n",
       "22  2021-06-01     analytics manager  8-9 current field      bay area   \n",
       "\n",
       "          salary bonus industry benefits experience_pre_clean  \\\n",
       "6          $500k    $0     tech      NaN                    5   \n",
       "22  400k/yr USD    NaN      NaN      NaN   8-9 current field    \n",
       "\n",
       "    experience_clean  salary_clean salary_currency   FX  salary_usd  \n",
       "6                5.0      500000.0             USD  1.0    500000.0  \n",
       "22               NaN      400000.0             USD  1.0    400000.0  "
      ]
     },
     "execution_count": 21,
     "metadata": {},
     "output_type": "execute_result"
    }
   ],
   "source": [
    "df_joined.loc[df_joined.salary_usd > 300000, :]"
   ]
  },
  {
   "cell_type": "code",
   "execution_count": 22,
   "metadata": {},
   "outputs": [
    {
     "data": {
      "application/vnd.plotly.v1+json": {
       "config": {
        "plotlyServerURL": "https://plot.ly"
       },
       "data": [
        {
         "alignmentgroup": "True",
         "bingroup": "x",
         "hovertemplate": "salary_usd=%{x}<br>count=%{y}<extra></extra>",
         "legendgroup": "",
         "marker": {
          "color": "#636efa",
          "pattern": {
           "shape": ""
          }
         },
         "name": "",
         "nbinsx": 100,
         "offsetgroup": "",
         "orientation": "v",
         "showlegend": false,
         "type": "histogram",
         "x": [
          150000,
          130000,
          38901.227352425485,
          15000,
          125000,
          114400.00000000001,
          500000,
          140000,
          49954.12250829797,
          152500,
          48.731508133074506,
          100000,
          95000,
          88000,
          60000,
          135000,
          81000,
          195000,
          115000,
          null,
          145000,
          81120,
          400000,
          17932.24910554286,
          1100,
          125000,
          68077.14786674459,
          90000,
          100000,
          52000.00000000001,
          118000,
          125000,
          90000,
          175000,
          93600.00000000001,
          11527.87442499184,
          67.60000000000001,
          50000,
          null,
          83200.00000000001,
          100000,
          62000,
          91174.75160724722,
          80000,
          87000,
          140000,
          125000,
          90000,
          125000,
          110000,
          190000,
          130000,
          94000,
          150000,
          117000,
          107000,
          165000,
          50000,
          15000,
          120000,
          60783.16773816482,
          null,
          107000,
          90000,
          110000,
          130000,
          135000,
          39312,
          100000,
          76000,
          145000,
          48626.53419053186,
          190000,
          110000,
          170000,
          150000,
          null,
          140000,
          85000,
          130000,
          52000.00000000001,
          90,
          100000,
          42000,
          170000,
          140000,
          155000,
          null,
          145000,
          105000,
          105000,
          null,
          186000,
          104417.67068273092,
          58783.28127324111,
          115000,
          132000,
          65000,
          180000,
          165000,
          220000,
          160000,
          95365.80556103332,
          120000,
          110000,
          72000,
          58351.84102863823,
          69611.78045515394,
          137000,
          70,
          139223.5609103079,
          90000,
          null,
          null,
          25000,
          140000,
          46800.00000000001,
          200000,
          76578.08420911708,
          160000,
          90000,
          145000,
          45000,
          123000,
          190000,
          90000,
          69611.78045515394,
          205000,
          95000,
          39000,
          90000,
          133000,
          61877.138182359064,
          140000,
          80000,
          137676.6324557489,
          74.88000000000001,
          55120.00000000001,
          120000,
          null,
          100000,
          180000,
          160000,
          117000,
          100000,
          100000,
          64634.566107010374,
          114000,
          60000,
          93600.00000000001,
          483.6,
          140000,
          6,
          145879.60257159558,
          null,
          80,
          170000,
          20176,
          65000,
          135000,
          115000,
          105000,
          27000,
          95000,
          18000,
          62400.00000000001,
          170000,
          32000,
          95000,
          90000,
          73000,
          105000,
          null,
          132000,
          65439.45377870005,
          160000,
          130000,
          81000,
          36400,
          180000,
          125000,
          120000,
          85000,
          null,
          36469.900642898894,
          70508.47457627118,
          100000,
          130000,
          120000,
          80000,
          79018.11805961427,
          144000,
          103331.38515488019,
          265000,
          22000,
          130182.74315549903,
          null,
          60000,
          162427.48772869253,
          null,
          null,
          18,
          200000,
          121566.33547632964,
          190000,
          80000,
          145000,
          null,
          null,
          null,
          17194.498283632627,
          57200.00000000001,
          175000,
          71158.70890971292,
          65645.821157218,
          55693.152152085146,
          110000,
          89440.00000000001,
          null,
          null,
          110000,
          null,
          88000,
          136000,
          65744.4593187565,
          150000,
          65000,
          null,
          152000,
          85.09643483343075,
          115000,
          110000,
          114652.49026188784,
          137676.6324557489,
          120000,
          205000,
          null,
          42000,
          null,
          null,
          132000,
          66861.4845119813,
          70000,
          83200.00000000001,
          68640,
          82000,
          100000,
          83000,
          6000,
          null,
          150000,
          130000,
          180000,
          null,
          110000,
          69611.78045515394,
          63214.49444769141,
          145000,
          36469.900642898894,
          null,
          null,
          100000,
          76586.79135008767,
          null,
          null,
          63500,
          145000,
          100000,
          69292.81122150789,
          61300,
          95000,
          95000,
          12480.000000000002,
          145879.60257159558,
          100000,
          110000,
          104000.00000000001,
          null,
          null,
          110000,
          88948.38613714116,
          145000,
          175000,
          140000,
          51000,
          83000,
          152000,
          14563.734290843806,
          88000,
          100000,
          null,
          60000,
          22464.000000000004,
          54142.49590956418,
          190000,
          140000,
          27456.000000000004,
          190000,
          69611.78045515394,
          165000,
          102000,
          97253.06838106371,
          145000,
          87000
         ],
         "xaxis": "x",
         "yaxis": "y"
        }
       ],
       "layout": {
        "barmode": "relative",
        "legend": {
         "tracegroupgap": 0
        },
        "margin": {
         "t": 60
        },
        "template": {
         "data": {
          "bar": [
           {
            "error_x": {
             "color": "#2a3f5f"
            },
            "error_y": {
             "color": "#2a3f5f"
            },
            "marker": {
             "line": {
              "color": "#E5ECF6",
              "width": 0.5
             },
             "pattern": {
              "fillmode": "overlay",
              "size": 10,
              "solidity": 0.2
             }
            },
            "type": "bar"
           }
          ],
          "barpolar": [
           {
            "marker": {
             "line": {
              "color": "#E5ECF6",
              "width": 0.5
             },
             "pattern": {
              "fillmode": "overlay",
              "size": 10,
              "solidity": 0.2
             }
            },
            "type": "barpolar"
           }
          ],
          "carpet": [
           {
            "aaxis": {
             "endlinecolor": "#2a3f5f",
             "gridcolor": "white",
             "linecolor": "white",
             "minorgridcolor": "white",
             "startlinecolor": "#2a3f5f"
            },
            "baxis": {
             "endlinecolor": "#2a3f5f",
             "gridcolor": "white",
             "linecolor": "white",
             "minorgridcolor": "white",
             "startlinecolor": "#2a3f5f"
            },
            "type": "carpet"
           }
          ],
          "choropleth": [
           {
            "colorbar": {
             "outlinewidth": 0,
             "ticks": ""
            },
            "type": "choropleth"
           }
          ],
          "contour": [
           {
            "colorbar": {
             "outlinewidth": 0,
             "ticks": ""
            },
            "colorscale": [
             [
              0,
              "#0d0887"
             ],
             [
              0.1111111111111111,
              "#46039f"
             ],
             [
              0.2222222222222222,
              "#7201a8"
             ],
             [
              0.3333333333333333,
              "#9c179e"
             ],
             [
              0.4444444444444444,
              "#bd3786"
             ],
             [
              0.5555555555555556,
              "#d8576b"
             ],
             [
              0.6666666666666666,
              "#ed7953"
             ],
             [
              0.7777777777777778,
              "#fb9f3a"
             ],
             [
              0.8888888888888888,
              "#fdca26"
             ],
             [
              1,
              "#f0f921"
             ]
            ],
            "type": "contour"
           }
          ],
          "contourcarpet": [
           {
            "colorbar": {
             "outlinewidth": 0,
             "ticks": ""
            },
            "type": "contourcarpet"
           }
          ],
          "heatmap": [
           {
            "colorbar": {
             "outlinewidth": 0,
             "ticks": ""
            },
            "colorscale": [
             [
              0,
              "#0d0887"
             ],
             [
              0.1111111111111111,
              "#46039f"
             ],
             [
              0.2222222222222222,
              "#7201a8"
             ],
             [
              0.3333333333333333,
              "#9c179e"
             ],
             [
              0.4444444444444444,
              "#bd3786"
             ],
             [
              0.5555555555555556,
              "#d8576b"
             ],
             [
              0.6666666666666666,
              "#ed7953"
             ],
             [
              0.7777777777777778,
              "#fb9f3a"
             ],
             [
              0.8888888888888888,
              "#fdca26"
             ],
             [
              1,
              "#f0f921"
             ]
            ],
            "type": "heatmap"
           }
          ],
          "heatmapgl": [
           {
            "colorbar": {
             "outlinewidth": 0,
             "ticks": ""
            },
            "colorscale": [
             [
              0,
              "#0d0887"
             ],
             [
              0.1111111111111111,
              "#46039f"
             ],
             [
              0.2222222222222222,
              "#7201a8"
             ],
             [
              0.3333333333333333,
              "#9c179e"
             ],
             [
              0.4444444444444444,
              "#bd3786"
             ],
             [
              0.5555555555555556,
              "#d8576b"
             ],
             [
              0.6666666666666666,
              "#ed7953"
             ],
             [
              0.7777777777777778,
              "#fb9f3a"
             ],
             [
              0.8888888888888888,
              "#fdca26"
             ],
             [
              1,
              "#f0f921"
             ]
            ],
            "type": "heatmapgl"
           }
          ],
          "histogram": [
           {
            "marker": {
             "pattern": {
              "fillmode": "overlay",
              "size": 10,
              "solidity": 0.2
             }
            },
            "type": "histogram"
           }
          ],
          "histogram2d": [
           {
            "colorbar": {
             "outlinewidth": 0,
             "ticks": ""
            },
            "colorscale": [
             [
              0,
              "#0d0887"
             ],
             [
              0.1111111111111111,
              "#46039f"
             ],
             [
              0.2222222222222222,
              "#7201a8"
             ],
             [
              0.3333333333333333,
              "#9c179e"
             ],
             [
              0.4444444444444444,
              "#bd3786"
             ],
             [
              0.5555555555555556,
              "#d8576b"
             ],
             [
              0.6666666666666666,
              "#ed7953"
             ],
             [
              0.7777777777777778,
              "#fb9f3a"
             ],
             [
              0.8888888888888888,
              "#fdca26"
             ],
             [
              1,
              "#f0f921"
             ]
            ],
            "type": "histogram2d"
           }
          ],
          "histogram2dcontour": [
           {
            "colorbar": {
             "outlinewidth": 0,
             "ticks": ""
            },
            "colorscale": [
             [
              0,
              "#0d0887"
             ],
             [
              0.1111111111111111,
              "#46039f"
             ],
             [
              0.2222222222222222,
              "#7201a8"
             ],
             [
              0.3333333333333333,
              "#9c179e"
             ],
             [
              0.4444444444444444,
              "#bd3786"
             ],
             [
              0.5555555555555556,
              "#d8576b"
             ],
             [
              0.6666666666666666,
              "#ed7953"
             ],
             [
              0.7777777777777778,
              "#fb9f3a"
             ],
             [
              0.8888888888888888,
              "#fdca26"
             ],
             [
              1,
              "#f0f921"
             ]
            ],
            "type": "histogram2dcontour"
           }
          ],
          "mesh3d": [
           {
            "colorbar": {
             "outlinewidth": 0,
             "ticks": ""
            },
            "type": "mesh3d"
           }
          ],
          "parcoords": [
           {
            "line": {
             "colorbar": {
              "outlinewidth": 0,
              "ticks": ""
             }
            },
            "type": "parcoords"
           }
          ],
          "pie": [
           {
            "automargin": true,
            "type": "pie"
           }
          ],
          "scatter": [
           {
            "fillpattern": {
             "fillmode": "overlay",
             "size": 10,
             "solidity": 0.2
            },
            "type": "scatter"
           }
          ],
          "scatter3d": [
           {
            "line": {
             "colorbar": {
              "outlinewidth": 0,
              "ticks": ""
             }
            },
            "marker": {
             "colorbar": {
              "outlinewidth": 0,
              "ticks": ""
             }
            },
            "type": "scatter3d"
           }
          ],
          "scattercarpet": [
           {
            "marker": {
             "colorbar": {
              "outlinewidth": 0,
              "ticks": ""
             }
            },
            "type": "scattercarpet"
           }
          ],
          "scattergeo": [
           {
            "marker": {
             "colorbar": {
              "outlinewidth": 0,
              "ticks": ""
             }
            },
            "type": "scattergeo"
           }
          ],
          "scattergl": [
           {
            "marker": {
             "colorbar": {
              "outlinewidth": 0,
              "ticks": ""
             }
            },
            "type": "scattergl"
           }
          ],
          "scattermapbox": [
           {
            "marker": {
             "colorbar": {
              "outlinewidth": 0,
              "ticks": ""
             }
            },
            "type": "scattermapbox"
           }
          ],
          "scatterpolar": [
           {
            "marker": {
             "colorbar": {
              "outlinewidth": 0,
              "ticks": ""
             }
            },
            "type": "scatterpolar"
           }
          ],
          "scatterpolargl": [
           {
            "marker": {
             "colorbar": {
              "outlinewidth": 0,
              "ticks": ""
             }
            },
            "type": "scatterpolargl"
           }
          ],
          "scatterternary": [
           {
            "marker": {
             "colorbar": {
              "outlinewidth": 0,
              "ticks": ""
             }
            },
            "type": "scatterternary"
           }
          ],
          "surface": [
           {
            "colorbar": {
             "outlinewidth": 0,
             "ticks": ""
            },
            "colorscale": [
             [
              0,
              "#0d0887"
             ],
             [
              0.1111111111111111,
              "#46039f"
             ],
             [
              0.2222222222222222,
              "#7201a8"
             ],
             [
              0.3333333333333333,
              "#9c179e"
             ],
             [
              0.4444444444444444,
              "#bd3786"
             ],
             [
              0.5555555555555556,
              "#d8576b"
             ],
             [
              0.6666666666666666,
              "#ed7953"
             ],
             [
              0.7777777777777778,
              "#fb9f3a"
             ],
             [
              0.8888888888888888,
              "#fdca26"
             ],
             [
              1,
              "#f0f921"
             ]
            ],
            "type": "surface"
           }
          ],
          "table": [
           {
            "cells": {
             "fill": {
              "color": "#EBF0F8"
             },
             "line": {
              "color": "white"
             }
            },
            "header": {
             "fill": {
              "color": "#C8D4E3"
             },
             "line": {
              "color": "white"
             }
            },
            "type": "table"
           }
          ]
         },
         "layout": {
          "annotationdefaults": {
           "arrowcolor": "#2a3f5f",
           "arrowhead": 0,
           "arrowwidth": 1
          },
          "autotypenumbers": "strict",
          "coloraxis": {
           "colorbar": {
            "outlinewidth": 0,
            "ticks": ""
           }
          },
          "colorscale": {
           "diverging": [
            [
             0,
             "#8e0152"
            ],
            [
             0.1,
             "#c51b7d"
            ],
            [
             0.2,
             "#de77ae"
            ],
            [
             0.3,
             "#f1b6da"
            ],
            [
             0.4,
             "#fde0ef"
            ],
            [
             0.5,
             "#f7f7f7"
            ],
            [
             0.6,
             "#e6f5d0"
            ],
            [
             0.7,
             "#b8e186"
            ],
            [
             0.8,
             "#7fbc41"
            ],
            [
             0.9,
             "#4d9221"
            ],
            [
             1,
             "#276419"
            ]
           ],
           "sequential": [
            [
             0,
             "#0d0887"
            ],
            [
             0.1111111111111111,
             "#46039f"
            ],
            [
             0.2222222222222222,
             "#7201a8"
            ],
            [
             0.3333333333333333,
             "#9c179e"
            ],
            [
             0.4444444444444444,
             "#bd3786"
            ],
            [
             0.5555555555555556,
             "#d8576b"
            ],
            [
             0.6666666666666666,
             "#ed7953"
            ],
            [
             0.7777777777777778,
             "#fb9f3a"
            ],
            [
             0.8888888888888888,
             "#fdca26"
            ],
            [
             1,
             "#f0f921"
            ]
           ],
           "sequentialminus": [
            [
             0,
             "#0d0887"
            ],
            [
             0.1111111111111111,
             "#46039f"
            ],
            [
             0.2222222222222222,
             "#7201a8"
            ],
            [
             0.3333333333333333,
             "#9c179e"
            ],
            [
             0.4444444444444444,
             "#bd3786"
            ],
            [
             0.5555555555555556,
             "#d8576b"
            ],
            [
             0.6666666666666666,
             "#ed7953"
            ],
            [
             0.7777777777777778,
             "#fb9f3a"
            ],
            [
             0.8888888888888888,
             "#fdca26"
            ],
            [
             1,
             "#f0f921"
            ]
           ]
          },
          "colorway": [
           "#636efa",
           "#EF553B",
           "#00cc96",
           "#ab63fa",
           "#FFA15A",
           "#19d3f3",
           "#FF6692",
           "#B6E880",
           "#FF97FF",
           "#FECB52"
          ],
          "font": {
           "color": "#2a3f5f"
          },
          "geo": {
           "bgcolor": "white",
           "lakecolor": "white",
           "landcolor": "#E5ECF6",
           "showlakes": true,
           "showland": true,
           "subunitcolor": "white"
          },
          "hoverlabel": {
           "align": "left"
          },
          "hovermode": "closest",
          "mapbox": {
           "style": "light"
          },
          "paper_bgcolor": "white",
          "plot_bgcolor": "#E5ECF6",
          "polar": {
           "angularaxis": {
            "gridcolor": "white",
            "linecolor": "white",
            "ticks": ""
           },
           "bgcolor": "#E5ECF6",
           "radialaxis": {
            "gridcolor": "white",
            "linecolor": "white",
            "ticks": ""
           }
          },
          "scene": {
           "xaxis": {
            "backgroundcolor": "#E5ECF6",
            "gridcolor": "white",
            "gridwidth": 2,
            "linecolor": "white",
            "showbackground": true,
            "ticks": "",
            "zerolinecolor": "white"
           },
           "yaxis": {
            "backgroundcolor": "#E5ECF6",
            "gridcolor": "white",
            "gridwidth": 2,
            "linecolor": "white",
            "showbackground": true,
            "ticks": "",
            "zerolinecolor": "white"
           },
           "zaxis": {
            "backgroundcolor": "#E5ECF6",
            "gridcolor": "white",
            "gridwidth": 2,
            "linecolor": "white",
            "showbackground": true,
            "ticks": "",
            "zerolinecolor": "white"
           }
          },
          "shapedefaults": {
           "line": {
            "color": "#2a3f5f"
           }
          },
          "ternary": {
           "aaxis": {
            "gridcolor": "white",
            "linecolor": "white",
            "ticks": ""
           },
           "baxis": {
            "gridcolor": "white",
            "linecolor": "white",
            "ticks": ""
           },
           "bgcolor": "#E5ECF6",
           "caxis": {
            "gridcolor": "white",
            "linecolor": "white",
            "ticks": ""
           }
          },
          "title": {
           "x": 0.05
          },
          "xaxis": {
           "automargin": true,
           "gridcolor": "white",
           "linecolor": "white",
           "ticks": "",
           "title": {
            "standoff": 15
           },
           "zerolinecolor": "white",
           "zerolinewidth": 2
          },
          "yaxis": {
           "automargin": true,
           "gridcolor": "white",
           "linecolor": "white",
           "ticks": "",
           "title": {
            "standoff": 15
           },
           "zerolinecolor": "white",
           "zerolinewidth": 2
          }
         }
        },
        "xaxis": {
         "anchor": "y",
         "domain": [
          0,
          1
         ],
         "title": {
          "text": "salary_usd"
         }
        },
        "yaxis": {
         "anchor": "x",
         "domain": [
          0,
          1
         ],
         "title": {
          "text": "count"
         }
        }
       }
      }
     },
     "metadata": {},
     "output_type": "display_data"
    }
   ],
   "source": [
    "# plot distribution of salary_usd\n",
    "px.histogram(df_joined, x='salary_usd', nbins=100)"
   ]
  },
  {
   "cell_type": "code",
   "execution_count": 23,
   "metadata": {},
   "outputs": [
    {
     "data": {
      "text/html": [
       "<div>\n",
       "<style scoped>\n",
       "    .dataframe tbody tr th:only-of-type {\n",
       "        vertical-align: middle;\n",
       "    }\n",
       "\n",
       "    .dataframe tbody tr th {\n",
       "        vertical-align: top;\n",
       "    }\n",
       "\n",
       "    .dataframe thead th {\n",
       "        text-align: right;\n",
       "    }\n",
       "</style>\n",
       "<table border=\"1\" class=\"dataframe\">\n",
       "  <thead>\n",
       "    <tr style=\"text-align: right;\">\n",
       "      <th></th>\n",
       "      <th>date</th>\n",
       "      <th>title</th>\n",
       "      <th>experience</th>\n",
       "      <th>location</th>\n",
       "      <th>salary</th>\n",
       "      <th>bonus</th>\n",
       "      <th>industry</th>\n",
       "      <th>benefits</th>\n",
       "      <th>experience_pre_clean</th>\n",
       "      <th>experience_clean</th>\n",
       "      <th>salary_clean</th>\n",
       "      <th>salary_currency</th>\n",
       "      <th>FX</th>\n",
       "      <th>salary_usd</th>\n",
       "    </tr>\n",
       "  </thead>\n",
       "  <tbody>\n",
       "    <tr>\n",
       "      <th>292</th>\n",
       "      <td>2022-06-01</td>\n",
       "      <td>bi analyst</td>\n",
       "      <td>2y developer, 6 months data analyst</td>\n",
       "      <td>baltic states</td>\n",
       "      <td>1800EUR/month</td>\n",
       "      <td>5% quater bonus</td>\n",
       "      <td>healthcare</td>\n",
       "      <td>mysql, python</td>\n",
       "      <td>2y developer, 6 months data analyst</td>\n",
       "      <td>0.166667</td>\n",
       "      <td>21600.0</td>\n",
       "      <td>EUR</td>\n",
       "      <td>0.961538</td>\n",
       "      <td>22464.000000</td>\n",
       "    </tr>\n",
       "    <tr>\n",
       "      <th>194</th>\n",
       "      <td>2021-12-01</td>\n",
       "      <td>data engineer</td>\n",
       "      <td>0 years</td>\n",
       "      <td>philippines</td>\n",
       "      <td>Php 22,000.00</td>\n",
       "      <td>none</td>\n",
       "      <td>saas</td>\n",
       "      <td>NaN</td>\n",
       "      <td>0 years</td>\n",
       "      <td>0.000000</td>\n",
       "      <td>22000.0</td>\n",
       "      <td>USD</td>\n",
       "      <td>1.000000</td>\n",
       "      <td>22000.000000</td>\n",
       "    </tr>\n",
       "    <tr>\n",
       "      <th>157</th>\n",
       "      <td>2021-12-01</td>\n",
       "      <td>big data developer</td>\n",
       "      <td>10 months of effective work</td>\n",
       "      <td>central italy</td>\n",
       "      <td>19400 €</td>\n",
       "      <td>2000 €  / year</td>\n",
       "      <td>consultancy</td>\n",
       "      <td>NaN</td>\n",
       "      <td>10 months of effective work</td>\n",
       "      <td>0.833333</td>\n",
       "      <td>19400.0</td>\n",
       "      <td>EUR</td>\n",
       "      <td>0.961538</td>\n",
       "      <td>20176.000000</td>\n",
       "    </tr>\n",
       "    <tr>\n",
       "      <th>164</th>\n",
       "      <td>2021-12-01</td>\n",
       "      <td>data engineer</td>\n",
       "      <td>4 years</td>\n",
       "      <td>turkey</td>\n",
       "      <td>18k $ / y</td>\n",
       "      <td>same as yours</td>\n",
       "      <td>finance + ecommerence</td>\n",
       "      <td>NaN</td>\n",
       "      <td>4 years</td>\n",
       "      <td>4.000000</td>\n",
       "      <td>18000.0</td>\n",
       "      <td>USD</td>\n",
       "      <td>1.000000</td>\n",
       "      <td>18000.000000</td>\n",
       "    </tr>\n",
       "    <tr>\n",
       "      <th>23</th>\n",
       "      <td>2021-06-01</td>\n",
       "      <td>data engineer</td>\n",
       "      <td>~1 yoe</td>\n",
       "      <td>bangalore india remote</td>\n",
       "      <td>14 Lpa INR</td>\n",
       "      <td>NaN</td>\n",
       "      <td>NaN</td>\n",
       "      <td>NaN</td>\n",
       "      <td>~1 yoe</td>\n",
       "      <td>1.000000</td>\n",
       "      <td>1400000.0</td>\n",
       "      <td>INR</td>\n",
       "      <td>78.071635</td>\n",
       "      <td>17932.249106</td>\n",
       "    </tr>\n",
       "    <tr>\n",
       "      <th>210</th>\n",
       "      <td>2022-03-01</td>\n",
       "      <td>data engineer iv</td>\n",
       "      <td>1.5 months</td>\n",
       "      <td>querétaro, méxico</td>\n",
       "      <td>354,000 MXN ~ 17,150 USD per year</td>\n",
       "      <td>bonus of 15% according to achievement of goals</td>\n",
       "      <td>chemicals</td>\n",
       "      <td>databricks, azure data factory, mssql, pl/sql,...</td>\n",
       "      <td>1.5 months</td>\n",
       "      <td>0.125000</td>\n",
       "      <td>354000.0</td>\n",
       "      <td>MXN</td>\n",
       "      <td>20.587981</td>\n",
       "      <td>17194.498284</td>\n",
       "    </tr>\n",
       "    <tr>\n",
       "      <th>3</th>\n",
       "      <td>2021-06-01</td>\n",
       "      <td>etl developer</td>\n",
       "      <td>1.5 years</td>\n",
       "      <td>belarus</td>\n",
       "      <td>$15k USD</td>\n",
       "      <td>NaN</td>\n",
       "      <td>NaN</td>\n",
       "      <td>NaN</td>\n",
       "      <td>1.5 years</td>\n",
       "      <td>1.500000</td>\n",
       "      <td>15000.0</td>\n",
       "      <td>USD</td>\n",
       "      <td>1.000000</td>\n",
       "      <td>15000.000000</td>\n",
       "    </tr>\n",
       "    <tr>\n",
       "      <th>58</th>\n",
       "      <td>2021-06-01</td>\n",
       "      <td>data engineer i at a fortune top vii in india</td>\n",
       "      <td>9 months as scala spark data engg</td>\n",
       "      <td>ncr, india</td>\n",
       "      <td>$15000/year</td>\n",
       "      <td>performance bonus : upto $2000</td>\n",
       "      <td>NaN</td>\n",
       "      <td>NaN</td>\n",
       "      <td>9 months as scala spark data engg</td>\n",
       "      <td>0.750000</td>\n",
       "      <td>15000.0</td>\n",
       "      <td>USD</td>\n",
       "      <td>1.000000</td>\n",
       "      <td>15000.000000</td>\n",
       "    </tr>\n",
       "    <tr>\n",
       "      <th>287</th>\n",
       "      <td>2022-06-01</td>\n",
       "      <td>data engineer</td>\n",
       "      <td>3 yoe</td>\n",
       "      <td>manila, philippines</td>\n",
       "      <td>780k PHP or 15.6k USD</td>\n",
       "      <td>65k php or 1.3k usd</td>\n",
       "      <td>python, sql, rds, dms, kinesis, lambda , s3, g...</td>\n",
       "      <td>NaN</td>\n",
       "      <td>3 yoe</td>\n",
       "      <td>3.000000</td>\n",
       "      <td>780000.0</td>\n",
       "      <td>PHP</td>\n",
       "      <td>53.557692</td>\n",
       "      <td>14563.734291</td>\n",
       "    </tr>\n",
       "    <tr>\n",
       "      <th>272</th>\n",
       "      <td>2022-06-01</td>\n",
       "      <td>data engineer intern</td>\n",
       "      <td>0yoe</td>\n",
       "      <td>paris, france</td>\n",
       "      <td>1000€/month</td>\n",
       "      <td>0€</td>\n",
       "      <td>financial services</td>\n",
       "      <td>python, airflow, aws , bigquery, docker, postgres</td>\n",
       "      <td>0yoe</td>\n",
       "      <td>0.000000</td>\n",
       "      <td>12000.0</td>\n",
       "      <td>EUR</td>\n",
       "      <td>0.961538</td>\n",
       "      <td>12480.000000</td>\n",
       "    </tr>\n",
       "    <tr>\n",
       "      <th>35</th>\n",
       "      <td>2021-06-01</td>\n",
       "      <td>big data engineer</td>\n",
       "      <td>3 yoe</td>\n",
       "      <td>pune, india</td>\n",
       "      <td>900K INR</td>\n",
       "      <td>NaN</td>\n",
       "      <td>NaN</td>\n",
       "      <td>NaN</td>\n",
       "      <td>3 yoe</td>\n",
       "      <td>3.000000</td>\n",
       "      <td>900000.0</td>\n",
       "      <td>INR</td>\n",
       "      <td>78.071635</td>\n",
       "      <td>11527.874425</td>\n",
       "    </tr>\n",
       "    <tr>\n",
       "      <th>248</th>\n",
       "      <td>2022-03-01</td>\n",
       "      <td>tech stack:sql scripting language: python</td>\n",
       "      <td>location : india</td>\n",
       "      <td>experience : 9 months</td>\n",
       "      <td>Salary :6000$ annual</td>\n",
       "      <td>NaN</td>\n",
       "      <td>NaN</td>\n",
       "      <td>NaN</td>\n",
       "      <td>location : india</td>\n",
       "      <td>NaN</td>\n",
       "      <td>6000.0</td>\n",
       "      <td>USD</td>\n",
       "      <td>1.000000</td>\n",
       "      <td>6000.000000</td>\n",
       "    </tr>\n",
       "    <tr>\n",
       "      <th>24</th>\n",
       "      <td>2021-06-01</td>\n",
       "      <td>data engineer</td>\n",
       "      <td>4 yoe</td>\n",
       "      <td>remote; us lcol</td>\n",
       "      <td>Base: $110,000 USD</td>\n",
       "      <td>10% bonus</td>\n",
       "      <td>fintech</td>\n",
       "      <td>NaN</td>\n",
       "      <td>4 yoe</td>\n",
       "      <td>4.000000</td>\n",
       "      <td>1100.0</td>\n",
       "      <td>USD</td>\n",
       "      <td>1.000000</td>\n",
       "      <td>1100.000000</td>\n",
       "    </tr>\n",
       "    <tr>\n",
       "      <th>150</th>\n",
       "      <td>2021-12-01</td>\n",
       "      <td>date engineer</td>\n",
       "      <td>&lt;1 year</td>\n",
       "      <td>paris</td>\n",
       "      <td>46,5K€</td>\n",
       "      <td>adtech</td>\n",
       "      <td>NaN</td>\n",
       "      <td>NaN</td>\n",
       "      <td>&lt;1 year</td>\n",
       "      <td>1.000000</td>\n",
       "      <td>465.0</td>\n",
       "      <td>EUR</td>\n",
       "      <td>0.961538</td>\n",
       "      <td>483.600000</td>\n",
       "    </tr>\n",
       "    <tr>\n",
       "      <th>81</th>\n",
       "      <td>2021-09-01</td>\n",
       "      <td>senior data engineer</td>\n",
       "      <td>8 years data analyst</td>\n",
       "      <td>ohio</td>\n",
       "      <td>90 base</td>\n",
       "      <td>7k bonus</td>\n",
       "      <td>NaN</td>\n",
       "      <td>NaN</td>\n",
       "      <td>8 years data analyst</td>\n",
       "      <td>8.000000</td>\n",
       "      <td>90.0</td>\n",
       "      <td>USD</td>\n",
       "      <td>1.000000</td>\n",
       "      <td>90.000000</td>\n",
       "    </tr>\n",
       "    <tr>\n",
       "      <th>229</th>\n",
       "      <td>2022-03-01</td>\n",
       "      <td>data engineer</td>\n",
       "      <td>yoe: 6</td>\n",
       "      <td>location: u.k.</td>\n",
       "      <td>Salary: £70,000</td>\n",
       "      <td>benefits: minimum equity in current role</td>\n",
       "      <td>industry: insurtech</td>\n",
       "      <td>stack: python, aws, airflow, dbt, sql, and ter...</td>\n",
       "      <td>yoe: 6</td>\n",
       "      <td>6.000000</td>\n",
       "      <td>70.0</td>\n",
       "      <td>GBP</td>\n",
       "      <td>0.822596</td>\n",
       "      <td>85.096435</td>\n",
       "    </tr>\n",
       "    <tr>\n",
       "      <th>155</th>\n",
       "      <td>2021-12-01</td>\n",
       "      <td>senior data engineer</td>\n",
       "      <td>3 years as dba, 2 years data engineering</td>\n",
       "      <td>midwest</td>\n",
       "      <td>$80 per hour</td>\n",
       "      <td>0</td>\n",
       "      <td>entertainment</td>\n",
       "      <td>NaN</td>\n",
       "      <td>3 years as dba, 2 years data engineering</td>\n",
       "      <td>3.000000</td>\n",
       "      <td>80.0</td>\n",
       "      <td>USD</td>\n",
       "      <td>1.000000</td>\n",
       "      <td>80.000000</td>\n",
       "    </tr>\n",
       "    <tr>\n",
       "      <th>136</th>\n",
       "      <td>2021-12-01</td>\n",
       "      <td>data analytics engineer</td>\n",
       "      <td>1 yoe</td>\n",
       "      <td>madrid</td>\n",
       "      <td>72.00€</td>\n",
       "      <td>none</td>\n",
       "      <td>NaN</td>\n",
       "      <td>NaN</td>\n",
       "      <td>1 yoe</td>\n",
       "      <td>1.000000</td>\n",
       "      <td>72.0</td>\n",
       "      <td>EUR</td>\n",
       "      <td>0.961538</td>\n",
       "      <td>74.880000</td>\n",
       "    </tr>\n",
       "    <tr>\n",
       "      <th>109</th>\n",
       "      <td>2021-09-01</td>\n",
       "      <td>data engineer</td>\n",
       "      <td>2 yoe</td>\n",
       "      <td>norway</td>\n",
       "      <td>~$70.000</td>\n",
       "      <td>shipping</td>\n",
       "      <td>NaN</td>\n",
       "      <td>NaN</td>\n",
       "      <td>2 yoe</td>\n",
       "      <td>2.000000</td>\n",
       "      <td>70.0</td>\n",
       "      <td>USD</td>\n",
       "      <td>1.000000</td>\n",
       "      <td>70.000000</td>\n",
       "    </tr>\n",
       "    <tr>\n",
       "      <th>36</th>\n",
       "      <td>2021-06-01</td>\n",
       "      <td>lead  senior data engineer</td>\n",
       "      <td>10 yoe / 5 in de</td>\n",
       "      <td>madrid, spain</td>\n",
       "      <td>65.00€</td>\n",
       "      <td>20%</td>\n",
       "      <td>consulting</td>\n",
       "      <td>NaN</td>\n",
       "      <td>10 yoe / 5 in de</td>\n",
       "      <td>10.000000</td>\n",
       "      <td>65.0</td>\n",
       "      <td>EUR</td>\n",
       "      <td>0.961538</td>\n",
       "      <td>67.600000</td>\n",
       "    </tr>\n",
       "    <tr>\n",
       "      <th>10</th>\n",
       "      <td>2021-06-01</td>\n",
       "      <td>junior data engineer</td>\n",
       "      <td>2 years experience, predominantly bi analyst</td>\n",
       "      <td>melbourne australia</td>\n",
       "      <td>$70 AUD</td>\n",
       "      <td>$6.5k bonus, only work 4 days</td>\n",
       "      <td>logistics</td>\n",
       "      <td>NaN</td>\n",
       "      <td>2 years experience, predominantly bi analyst</td>\n",
       "      <td>2.000000</td>\n",
       "      <td>70.0</td>\n",
       "      <td>AUD</td>\n",
       "      <td>1.436442</td>\n",
       "      <td>48.731508</td>\n",
       "    </tr>\n",
       "    <tr>\n",
       "      <th>201</th>\n",
       "      <td>2022-03-01</td>\n",
       "      <td>data engineering consultant</td>\n",
       "      <td>6 months</td>\n",
       "      <td>santa catarina, brazil</td>\n",
       "      <td>R$18.000 = $3500 USD yearly</td>\n",
       "      <td>r$800 = $150 usd every 6 months if we hit our ...</td>\n",
       "      <td>de consultancy for industrial/retail/tech clie...</td>\n",
       "      <td>sql + python + airflow + gcp and aws cloud pro...</td>\n",
       "      <td>6 months</td>\n",
       "      <td>0.500000</td>\n",
       "      <td>18.0</td>\n",
       "      <td>USD</td>\n",
       "      <td>1.000000</td>\n",
       "      <td>18.000000</td>\n",
       "    </tr>\n",
       "    <tr>\n",
       "      <th>152</th>\n",
       "      <td>2021-12-01</td>\n",
       "      <td>data engineer</td>\n",
       "      <td>&lt;1 as de, 1 as da, 1 as automation specialist</td>\n",
       "      <td>midwest</td>\n",
       "      <td>6. Manufacturing/Chemicals</td>\n",
       "      <td>NaN</td>\n",
       "      <td>NaN</td>\n",
       "      <td>NaN</td>\n",
       "      <td>&lt;1 as de, 1 as da, 1 as automation specialist</td>\n",
       "      <td>1.000000</td>\n",
       "      <td>6.0</td>\n",
       "      <td>USD</td>\n",
       "      <td>1.000000</td>\n",
       "      <td>6.000000</td>\n",
       "    </tr>\n",
       "  </tbody>\n",
       "</table>\n",
       "</div>"
      ],
      "text/plain": [
       "           date                                          title  \\\n",
       "292  2022-06-01                                     bi analyst   \n",
       "194  2021-12-01                                  data engineer   \n",
       "157  2021-12-01                             big data developer   \n",
       "164  2021-12-01                                  data engineer   \n",
       "23   2021-06-01                                  data engineer   \n",
       "210  2022-03-01                               data engineer iv   \n",
       "3    2021-06-01                                  etl developer   \n",
       "58   2021-06-01  data engineer i at a fortune top vii in india   \n",
       "287  2022-06-01                                  data engineer   \n",
       "272  2022-06-01                           data engineer intern   \n",
       "35   2021-06-01                              big data engineer   \n",
       "248  2022-03-01      tech stack:sql scripting language: python   \n",
       "24   2021-06-01                                  data engineer   \n",
       "150  2021-12-01                                  date engineer   \n",
       "81   2021-09-01                           senior data engineer   \n",
       "229  2022-03-01                                  data engineer   \n",
       "155  2021-12-01                           senior data engineer   \n",
       "136  2021-12-01                        data analytics engineer   \n",
       "109  2021-09-01                                  data engineer   \n",
       "36   2021-06-01                     lead  senior data engineer   \n",
       "10   2021-06-01                           junior data engineer   \n",
       "201  2022-03-01                    data engineering consultant   \n",
       "152  2021-12-01                                  data engineer   \n",
       "\n",
       "                                         experience                location  \\\n",
       "292             2y developer, 6 months data analyst           baltic states   \n",
       "194                                         0 years             philippines   \n",
       "157                     10 months of effective work           central italy   \n",
       "164                                         4 years                  turkey   \n",
       "23                                           ~1 yoe  bangalore india remote   \n",
       "210                                      1.5 months       querétaro, méxico   \n",
       "3                                         1.5 years                 belarus   \n",
       "58                9 months as scala spark data engg              ncr, india   \n",
       "287                                           3 yoe     manila, philippines   \n",
       "272                                            0yoe           paris, france   \n",
       "35                                            3 yoe             pune, india   \n",
       "248                                location : india   experience : 9 months   \n",
       "24                                            4 yoe         remote; us lcol   \n",
       "150                                         <1 year                   paris   \n",
       "81                             8 years data analyst                    ohio   \n",
       "229                                         yoe: 6           location: u.k.   \n",
       "155        3 years as dba, 2 years data engineering                 midwest   \n",
       "136                                           1 yoe                 madrid    \n",
       "109                                           2 yoe                  norway   \n",
       "36                                 10 yoe / 5 in de           madrid, spain   \n",
       "10     2 years experience, predominantly bi analyst     melbourne australia   \n",
       "201                                        6 months  santa catarina, brazil   \n",
       "152  <1 as de, 1 as da, 1 as automation specialist                  midwest   \n",
       "\n",
       "                                salary  \\\n",
       "292                      1800EUR/month   \n",
       "194                      Php 22,000.00   \n",
       "157                           19400 €    \n",
       "164                         18k $ / y    \n",
       "23                          14 Lpa INR   \n",
       "210  354,000 MXN ~ 17,150 USD per year   \n",
       "3                             $15k USD   \n",
       "58                         $15000/year   \n",
       "287              780k PHP or 15.6k USD   \n",
       "272                        1000€/month   \n",
       "35                            900K INR   \n",
       "248               Salary :6000$ annual   \n",
       "24                  Base: $110,000 USD   \n",
       "150                             46,5K€   \n",
       "81                             90 base   \n",
       "229                    Salary: £70,000   \n",
       "155                       $80 per hour   \n",
       "136                             72.00€   \n",
       "109                           ~$70.000   \n",
       "36                              65.00€   \n",
       "10                             $70 AUD   \n",
       "201        R$18.000 = $3500 USD yearly   \n",
       "152         6. Manufacturing/Chemicals   \n",
       "\n",
       "                                                 bonus  \\\n",
       "292                                    5% quater bonus   \n",
       "194                                               none   \n",
       "157                                     2000 €  / year   \n",
       "164                                      same as yours   \n",
       "23                                                 NaN   \n",
       "210     bonus of 15% according to achievement of goals   \n",
       "3                                                  NaN   \n",
       "58                      performance bonus : upto $2000   \n",
       "287                                65k php or 1.3k usd   \n",
       "272                                                 0€   \n",
       "35                                                 NaN   \n",
       "248                                                NaN   \n",
       "24                                           10% bonus   \n",
       "150                                             adtech   \n",
       "81                                            7k bonus   \n",
       "229           benefits: minimum equity in current role   \n",
       "155                                                  0   \n",
       "136                                               none   \n",
       "109                                           shipping   \n",
       "36                                                 20%   \n",
       "10                       $6.5k bonus, only work 4 days   \n",
       "201  r$800 = $150 usd every 6 months if we hit our ...   \n",
       "152                                                NaN   \n",
       "\n",
       "                                              industry  \\\n",
       "292                                         healthcare   \n",
       "194                                               saas   \n",
       "157                                        consultancy   \n",
       "164                             finance + ecommerence    \n",
       "23                                                 NaN   \n",
       "210                                         chemicals    \n",
       "3                                                  NaN   \n",
       "58                                                 NaN   \n",
       "287  python, sql, rds, dms, kinesis, lambda , s3, g...   \n",
       "272                                 financial services   \n",
       "35                                                 NaN   \n",
       "248                                                NaN   \n",
       "24                                             fintech   \n",
       "150                                                NaN   \n",
       "81                                                 NaN   \n",
       "229                                industry: insurtech   \n",
       "155                                      entertainment   \n",
       "136                                                NaN   \n",
       "109                                                NaN   \n",
       "36                                          consulting   \n",
       "10                                           logistics   \n",
       "201  de consultancy for industrial/retail/tech clie...   \n",
       "152                                                NaN   \n",
       "\n",
       "                                              benefits  \\\n",
       "292                                      mysql, python   \n",
       "194                                                NaN   \n",
       "157                                                NaN   \n",
       "164                                                NaN   \n",
       "23                                                 NaN   \n",
       "210  databricks, azure data factory, mssql, pl/sql,...   \n",
       "3                                                  NaN   \n",
       "58                                                 NaN   \n",
       "287                                                NaN   \n",
       "272  python, airflow, aws , bigquery, docker, postgres   \n",
       "35                                                 NaN   \n",
       "248                                                NaN   \n",
       "24                                                 NaN   \n",
       "150                                                NaN   \n",
       "81                                                 NaN   \n",
       "229  stack: python, aws, airflow, dbt, sql, and ter...   \n",
       "155                                                NaN   \n",
       "136                                                NaN   \n",
       "109                                                NaN   \n",
       "36                                                 NaN   \n",
       "10                                                 NaN   \n",
       "201  sql + python + airflow + gcp and aws cloud pro...   \n",
       "152                                                NaN   \n",
       "\n",
       "                               experience_pre_clean  experience_clean  \\\n",
       "292             2y developer, 6 months data analyst          0.166667   \n",
       "194                                         0 years          0.000000   \n",
       "157                     10 months of effective work          0.833333   \n",
       "164                                         4 years          4.000000   \n",
       "23                                           ~1 yoe          1.000000   \n",
       "210                                      1.5 months          0.125000   \n",
       "3                                         1.5 years          1.500000   \n",
       "58                9 months as scala spark data engg          0.750000   \n",
       "287                                           3 yoe          3.000000   \n",
       "272                                            0yoe          0.000000   \n",
       "35                                            3 yoe          3.000000   \n",
       "248                                location : india               NaN   \n",
       "24                                            4 yoe          4.000000   \n",
       "150                                         <1 year          1.000000   \n",
       "81                             8 years data analyst          8.000000   \n",
       "229                                         yoe: 6           6.000000   \n",
       "155        3 years as dba, 2 years data engineering          3.000000   \n",
       "136                                           1 yoe          1.000000   \n",
       "109                                           2 yoe          2.000000   \n",
       "36                                 10 yoe / 5 in de         10.000000   \n",
       "10     2 years experience, predominantly bi analyst          2.000000   \n",
       "201                                        6 months          0.500000   \n",
       "152  <1 as de, 1 as da, 1 as automation specialist           1.000000   \n",
       "\n",
       "     salary_clean salary_currency         FX    salary_usd  \n",
       "292       21600.0             EUR   0.961538  22464.000000  \n",
       "194       22000.0             USD   1.000000  22000.000000  \n",
       "157       19400.0             EUR   0.961538  20176.000000  \n",
       "164       18000.0             USD   1.000000  18000.000000  \n",
       "23      1400000.0             INR  78.071635  17932.249106  \n",
       "210      354000.0             MXN  20.587981  17194.498284  \n",
       "3         15000.0             USD   1.000000  15000.000000  \n",
       "58        15000.0             USD   1.000000  15000.000000  \n",
       "287      780000.0             PHP  53.557692  14563.734291  \n",
       "272       12000.0             EUR   0.961538  12480.000000  \n",
       "35       900000.0             INR  78.071635  11527.874425  \n",
       "248        6000.0             USD   1.000000   6000.000000  \n",
       "24         1100.0             USD   1.000000   1100.000000  \n",
       "150         465.0             EUR   0.961538    483.600000  \n",
       "81           90.0             USD   1.000000     90.000000  \n",
       "229          70.0             GBP   0.822596     85.096435  \n",
       "155          80.0             USD   1.000000     80.000000  \n",
       "136          72.0             EUR   0.961538     74.880000  \n",
       "109          70.0             USD   1.000000     70.000000  \n",
       "36           65.0             EUR   0.961538     67.600000  \n",
       "10           70.0             AUD   1.436442     48.731508  \n",
       "201          18.0             USD   1.000000     18.000000  \n",
       "152           6.0             USD   1.000000      6.000000  "
      ]
     },
     "execution_count": 23,
     "metadata": {},
     "output_type": "execute_result"
    }
   ],
   "source": [
    "# show salary_usd rows below 25000\n",
    "df_joined.loc[df_joined.salary_usd < 25000, :].sort_values(by='salary_usd', ascending=False)"
   ]
  },
  {
   "cell_type": "code",
   "execution_count": 24,
   "metadata": {},
   "outputs": [],
   "source": [
    "# if salary_usd < 5,000 then replace with NaN\n",
    "df_joined['salary_usd'] = df_joined.salary_usd.where(df_joined['salary_usd']>5000, None)"
   ]
  },
  {
   "cell_type": "code",
   "execution_count": null,
   "metadata": {},
   "outputs": [],
   "source": []
  },
  {
   "cell_type": "code",
   "execution_count": 25,
   "metadata": {},
   "outputs": [
    {
     "data": {
      "application/vnd.plotly.v1+json": {
       "config": {
        "plotlyServerURL": "https://plot.ly"
       },
       "data": [
        {
         "alignmentgroup": "True",
         "bingroup": "x",
         "hovertemplate": "salary_usd=%{x}<br>count=%{y}<extra></extra>",
         "legendgroup": "",
         "marker": {
          "color": "#636efa",
          "pattern": {
           "shape": ""
          }
         },
         "name": "",
         "nbinsx": 100,
         "offsetgroup": "",
         "orientation": "v",
         "showlegend": false,
         "type": "histogram",
         "x": [
          150000,
          130000,
          38901.227352425485,
          15000,
          125000,
          114400.00000000001,
          500000,
          140000,
          49954.12250829797,
          152500,
          null,
          100000,
          95000,
          88000,
          60000,
          135000,
          81000,
          195000,
          115000,
          null,
          145000,
          81120,
          400000,
          17932.24910554286,
          null,
          125000,
          68077.14786674459,
          90000,
          100000,
          52000.00000000001,
          118000,
          125000,
          90000,
          175000,
          93600.00000000001,
          11527.87442499184,
          null,
          50000,
          null,
          83200.00000000001,
          100000,
          62000,
          91174.75160724722,
          80000,
          87000,
          140000,
          125000,
          90000,
          125000,
          110000,
          190000,
          130000,
          94000,
          150000,
          117000,
          107000,
          165000,
          50000,
          15000,
          120000,
          60783.16773816482,
          null,
          107000,
          90000,
          110000,
          130000,
          135000,
          39312,
          100000,
          76000,
          145000,
          48626.53419053186,
          190000,
          110000,
          170000,
          150000,
          null,
          140000,
          85000,
          130000,
          52000.00000000001,
          null,
          100000,
          42000,
          170000,
          140000,
          155000,
          null,
          145000,
          105000,
          105000,
          null,
          186000,
          104417.67068273092,
          58783.28127324111,
          115000,
          132000,
          65000,
          180000,
          165000,
          220000,
          160000,
          95365.80556103332,
          120000,
          110000,
          72000,
          58351.84102863823,
          69611.78045515394,
          137000,
          null,
          139223.5609103079,
          90000,
          null,
          null,
          25000,
          140000,
          46800.00000000001,
          200000,
          76578.08420911708,
          160000,
          90000,
          145000,
          45000,
          123000,
          190000,
          90000,
          69611.78045515394,
          205000,
          95000,
          39000,
          90000,
          133000,
          61877.138182359064,
          140000,
          80000,
          137676.6324557489,
          null,
          55120.00000000001,
          120000,
          null,
          100000,
          180000,
          160000,
          117000,
          100000,
          100000,
          64634.566107010374,
          114000,
          60000,
          93600.00000000001,
          null,
          140000,
          null,
          145879.60257159558,
          null,
          null,
          170000,
          20176,
          65000,
          135000,
          115000,
          105000,
          27000,
          95000,
          18000,
          62400.00000000001,
          170000,
          32000,
          95000,
          90000,
          73000,
          105000,
          null,
          132000,
          65439.45377870005,
          160000,
          130000,
          81000,
          36400,
          180000,
          125000,
          120000,
          85000,
          null,
          36469.900642898894,
          70508.47457627118,
          100000,
          130000,
          120000,
          80000,
          79018.11805961427,
          144000,
          103331.38515488019,
          265000,
          22000,
          130182.74315549903,
          null,
          60000,
          162427.48772869253,
          null,
          null,
          null,
          200000,
          121566.33547632964,
          190000,
          80000,
          145000,
          null,
          null,
          null,
          17194.498283632627,
          57200.00000000001,
          175000,
          71158.70890971292,
          65645.821157218,
          55693.152152085146,
          110000,
          89440.00000000001,
          null,
          null,
          110000,
          null,
          88000,
          136000,
          65744.4593187565,
          150000,
          65000,
          null,
          152000,
          null,
          115000,
          110000,
          114652.49026188784,
          137676.6324557489,
          120000,
          205000,
          null,
          42000,
          null,
          null,
          132000,
          66861.4845119813,
          70000,
          83200.00000000001,
          68640,
          82000,
          100000,
          83000,
          6000,
          null,
          150000,
          130000,
          180000,
          null,
          110000,
          69611.78045515394,
          63214.49444769141,
          145000,
          36469.900642898894,
          null,
          null,
          100000,
          76586.79135008767,
          null,
          null,
          63500,
          145000,
          100000,
          69292.81122150789,
          61300,
          95000,
          95000,
          12480.000000000002,
          145879.60257159558,
          100000,
          110000,
          104000.00000000001,
          null,
          null,
          110000,
          88948.38613714116,
          145000,
          175000,
          140000,
          51000,
          83000,
          152000,
          14563.734290843806,
          88000,
          100000,
          null,
          60000,
          22464.000000000004,
          54142.49590956418,
          190000,
          140000,
          27456.000000000004,
          190000,
          69611.78045515394,
          165000,
          102000,
          97253.06838106371,
          145000,
          87000
         ],
         "xaxis": "x",
         "yaxis": "y"
        }
       ],
       "layout": {
        "barmode": "relative",
        "legend": {
         "tracegroupgap": 0
        },
        "margin": {
         "t": 60
        },
        "template": {
         "data": {
          "bar": [
           {
            "error_x": {
             "color": "#2a3f5f"
            },
            "error_y": {
             "color": "#2a3f5f"
            },
            "marker": {
             "line": {
              "color": "#E5ECF6",
              "width": 0.5
             },
             "pattern": {
              "fillmode": "overlay",
              "size": 10,
              "solidity": 0.2
             }
            },
            "type": "bar"
           }
          ],
          "barpolar": [
           {
            "marker": {
             "line": {
              "color": "#E5ECF6",
              "width": 0.5
             },
             "pattern": {
              "fillmode": "overlay",
              "size": 10,
              "solidity": 0.2
             }
            },
            "type": "barpolar"
           }
          ],
          "carpet": [
           {
            "aaxis": {
             "endlinecolor": "#2a3f5f",
             "gridcolor": "white",
             "linecolor": "white",
             "minorgridcolor": "white",
             "startlinecolor": "#2a3f5f"
            },
            "baxis": {
             "endlinecolor": "#2a3f5f",
             "gridcolor": "white",
             "linecolor": "white",
             "minorgridcolor": "white",
             "startlinecolor": "#2a3f5f"
            },
            "type": "carpet"
           }
          ],
          "choropleth": [
           {
            "colorbar": {
             "outlinewidth": 0,
             "ticks": ""
            },
            "type": "choropleth"
           }
          ],
          "contour": [
           {
            "colorbar": {
             "outlinewidth": 0,
             "ticks": ""
            },
            "colorscale": [
             [
              0,
              "#0d0887"
             ],
             [
              0.1111111111111111,
              "#46039f"
             ],
             [
              0.2222222222222222,
              "#7201a8"
             ],
             [
              0.3333333333333333,
              "#9c179e"
             ],
             [
              0.4444444444444444,
              "#bd3786"
             ],
             [
              0.5555555555555556,
              "#d8576b"
             ],
             [
              0.6666666666666666,
              "#ed7953"
             ],
             [
              0.7777777777777778,
              "#fb9f3a"
             ],
             [
              0.8888888888888888,
              "#fdca26"
             ],
             [
              1,
              "#f0f921"
             ]
            ],
            "type": "contour"
           }
          ],
          "contourcarpet": [
           {
            "colorbar": {
             "outlinewidth": 0,
             "ticks": ""
            },
            "type": "contourcarpet"
           }
          ],
          "heatmap": [
           {
            "colorbar": {
             "outlinewidth": 0,
             "ticks": ""
            },
            "colorscale": [
             [
              0,
              "#0d0887"
             ],
             [
              0.1111111111111111,
              "#46039f"
             ],
             [
              0.2222222222222222,
              "#7201a8"
             ],
             [
              0.3333333333333333,
              "#9c179e"
             ],
             [
              0.4444444444444444,
              "#bd3786"
             ],
             [
              0.5555555555555556,
              "#d8576b"
             ],
             [
              0.6666666666666666,
              "#ed7953"
             ],
             [
              0.7777777777777778,
              "#fb9f3a"
             ],
             [
              0.8888888888888888,
              "#fdca26"
             ],
             [
              1,
              "#f0f921"
             ]
            ],
            "type": "heatmap"
           }
          ],
          "heatmapgl": [
           {
            "colorbar": {
             "outlinewidth": 0,
             "ticks": ""
            },
            "colorscale": [
             [
              0,
              "#0d0887"
             ],
             [
              0.1111111111111111,
              "#46039f"
             ],
             [
              0.2222222222222222,
              "#7201a8"
             ],
             [
              0.3333333333333333,
              "#9c179e"
             ],
             [
              0.4444444444444444,
              "#bd3786"
             ],
             [
              0.5555555555555556,
              "#d8576b"
             ],
             [
              0.6666666666666666,
              "#ed7953"
             ],
             [
              0.7777777777777778,
              "#fb9f3a"
             ],
             [
              0.8888888888888888,
              "#fdca26"
             ],
             [
              1,
              "#f0f921"
             ]
            ],
            "type": "heatmapgl"
           }
          ],
          "histogram": [
           {
            "marker": {
             "pattern": {
              "fillmode": "overlay",
              "size": 10,
              "solidity": 0.2
             }
            },
            "type": "histogram"
           }
          ],
          "histogram2d": [
           {
            "colorbar": {
             "outlinewidth": 0,
             "ticks": ""
            },
            "colorscale": [
             [
              0,
              "#0d0887"
             ],
             [
              0.1111111111111111,
              "#46039f"
             ],
             [
              0.2222222222222222,
              "#7201a8"
             ],
             [
              0.3333333333333333,
              "#9c179e"
             ],
             [
              0.4444444444444444,
              "#bd3786"
             ],
             [
              0.5555555555555556,
              "#d8576b"
             ],
             [
              0.6666666666666666,
              "#ed7953"
             ],
             [
              0.7777777777777778,
              "#fb9f3a"
             ],
             [
              0.8888888888888888,
              "#fdca26"
             ],
             [
              1,
              "#f0f921"
             ]
            ],
            "type": "histogram2d"
           }
          ],
          "histogram2dcontour": [
           {
            "colorbar": {
             "outlinewidth": 0,
             "ticks": ""
            },
            "colorscale": [
             [
              0,
              "#0d0887"
             ],
             [
              0.1111111111111111,
              "#46039f"
             ],
             [
              0.2222222222222222,
              "#7201a8"
             ],
             [
              0.3333333333333333,
              "#9c179e"
             ],
             [
              0.4444444444444444,
              "#bd3786"
             ],
             [
              0.5555555555555556,
              "#d8576b"
             ],
             [
              0.6666666666666666,
              "#ed7953"
             ],
             [
              0.7777777777777778,
              "#fb9f3a"
             ],
             [
              0.8888888888888888,
              "#fdca26"
             ],
             [
              1,
              "#f0f921"
             ]
            ],
            "type": "histogram2dcontour"
           }
          ],
          "mesh3d": [
           {
            "colorbar": {
             "outlinewidth": 0,
             "ticks": ""
            },
            "type": "mesh3d"
           }
          ],
          "parcoords": [
           {
            "line": {
             "colorbar": {
              "outlinewidth": 0,
              "ticks": ""
             }
            },
            "type": "parcoords"
           }
          ],
          "pie": [
           {
            "automargin": true,
            "type": "pie"
           }
          ],
          "scatter": [
           {
            "fillpattern": {
             "fillmode": "overlay",
             "size": 10,
             "solidity": 0.2
            },
            "type": "scatter"
           }
          ],
          "scatter3d": [
           {
            "line": {
             "colorbar": {
              "outlinewidth": 0,
              "ticks": ""
             }
            },
            "marker": {
             "colorbar": {
              "outlinewidth": 0,
              "ticks": ""
             }
            },
            "type": "scatter3d"
           }
          ],
          "scattercarpet": [
           {
            "marker": {
             "colorbar": {
              "outlinewidth": 0,
              "ticks": ""
             }
            },
            "type": "scattercarpet"
           }
          ],
          "scattergeo": [
           {
            "marker": {
             "colorbar": {
              "outlinewidth": 0,
              "ticks": ""
             }
            },
            "type": "scattergeo"
           }
          ],
          "scattergl": [
           {
            "marker": {
             "colorbar": {
              "outlinewidth": 0,
              "ticks": ""
             }
            },
            "type": "scattergl"
           }
          ],
          "scattermapbox": [
           {
            "marker": {
             "colorbar": {
              "outlinewidth": 0,
              "ticks": ""
             }
            },
            "type": "scattermapbox"
           }
          ],
          "scatterpolar": [
           {
            "marker": {
             "colorbar": {
              "outlinewidth": 0,
              "ticks": ""
             }
            },
            "type": "scatterpolar"
           }
          ],
          "scatterpolargl": [
           {
            "marker": {
             "colorbar": {
              "outlinewidth": 0,
              "ticks": ""
             }
            },
            "type": "scatterpolargl"
           }
          ],
          "scatterternary": [
           {
            "marker": {
             "colorbar": {
              "outlinewidth": 0,
              "ticks": ""
             }
            },
            "type": "scatterternary"
           }
          ],
          "surface": [
           {
            "colorbar": {
             "outlinewidth": 0,
             "ticks": ""
            },
            "colorscale": [
             [
              0,
              "#0d0887"
             ],
             [
              0.1111111111111111,
              "#46039f"
             ],
             [
              0.2222222222222222,
              "#7201a8"
             ],
             [
              0.3333333333333333,
              "#9c179e"
             ],
             [
              0.4444444444444444,
              "#bd3786"
             ],
             [
              0.5555555555555556,
              "#d8576b"
             ],
             [
              0.6666666666666666,
              "#ed7953"
             ],
             [
              0.7777777777777778,
              "#fb9f3a"
             ],
             [
              0.8888888888888888,
              "#fdca26"
             ],
             [
              1,
              "#f0f921"
             ]
            ],
            "type": "surface"
           }
          ],
          "table": [
           {
            "cells": {
             "fill": {
              "color": "#EBF0F8"
             },
             "line": {
              "color": "white"
             }
            },
            "header": {
             "fill": {
              "color": "#C8D4E3"
             },
             "line": {
              "color": "white"
             }
            },
            "type": "table"
           }
          ]
         },
         "layout": {
          "annotationdefaults": {
           "arrowcolor": "#2a3f5f",
           "arrowhead": 0,
           "arrowwidth": 1
          },
          "autotypenumbers": "strict",
          "coloraxis": {
           "colorbar": {
            "outlinewidth": 0,
            "ticks": ""
           }
          },
          "colorscale": {
           "diverging": [
            [
             0,
             "#8e0152"
            ],
            [
             0.1,
             "#c51b7d"
            ],
            [
             0.2,
             "#de77ae"
            ],
            [
             0.3,
             "#f1b6da"
            ],
            [
             0.4,
             "#fde0ef"
            ],
            [
             0.5,
             "#f7f7f7"
            ],
            [
             0.6,
             "#e6f5d0"
            ],
            [
             0.7,
             "#b8e186"
            ],
            [
             0.8,
             "#7fbc41"
            ],
            [
             0.9,
             "#4d9221"
            ],
            [
             1,
             "#276419"
            ]
           ],
           "sequential": [
            [
             0,
             "#0d0887"
            ],
            [
             0.1111111111111111,
             "#46039f"
            ],
            [
             0.2222222222222222,
             "#7201a8"
            ],
            [
             0.3333333333333333,
             "#9c179e"
            ],
            [
             0.4444444444444444,
             "#bd3786"
            ],
            [
             0.5555555555555556,
             "#d8576b"
            ],
            [
             0.6666666666666666,
             "#ed7953"
            ],
            [
             0.7777777777777778,
             "#fb9f3a"
            ],
            [
             0.8888888888888888,
             "#fdca26"
            ],
            [
             1,
             "#f0f921"
            ]
           ],
           "sequentialminus": [
            [
             0,
             "#0d0887"
            ],
            [
             0.1111111111111111,
             "#46039f"
            ],
            [
             0.2222222222222222,
             "#7201a8"
            ],
            [
             0.3333333333333333,
             "#9c179e"
            ],
            [
             0.4444444444444444,
             "#bd3786"
            ],
            [
             0.5555555555555556,
             "#d8576b"
            ],
            [
             0.6666666666666666,
             "#ed7953"
            ],
            [
             0.7777777777777778,
             "#fb9f3a"
            ],
            [
             0.8888888888888888,
             "#fdca26"
            ],
            [
             1,
             "#f0f921"
            ]
           ]
          },
          "colorway": [
           "#636efa",
           "#EF553B",
           "#00cc96",
           "#ab63fa",
           "#FFA15A",
           "#19d3f3",
           "#FF6692",
           "#B6E880",
           "#FF97FF",
           "#FECB52"
          ],
          "font": {
           "color": "#2a3f5f"
          },
          "geo": {
           "bgcolor": "white",
           "lakecolor": "white",
           "landcolor": "#E5ECF6",
           "showlakes": true,
           "showland": true,
           "subunitcolor": "white"
          },
          "hoverlabel": {
           "align": "left"
          },
          "hovermode": "closest",
          "mapbox": {
           "style": "light"
          },
          "paper_bgcolor": "white",
          "plot_bgcolor": "#E5ECF6",
          "polar": {
           "angularaxis": {
            "gridcolor": "white",
            "linecolor": "white",
            "ticks": ""
           },
           "bgcolor": "#E5ECF6",
           "radialaxis": {
            "gridcolor": "white",
            "linecolor": "white",
            "ticks": ""
           }
          },
          "scene": {
           "xaxis": {
            "backgroundcolor": "#E5ECF6",
            "gridcolor": "white",
            "gridwidth": 2,
            "linecolor": "white",
            "showbackground": true,
            "ticks": "",
            "zerolinecolor": "white"
           },
           "yaxis": {
            "backgroundcolor": "#E5ECF6",
            "gridcolor": "white",
            "gridwidth": 2,
            "linecolor": "white",
            "showbackground": true,
            "ticks": "",
            "zerolinecolor": "white"
           },
           "zaxis": {
            "backgroundcolor": "#E5ECF6",
            "gridcolor": "white",
            "gridwidth": 2,
            "linecolor": "white",
            "showbackground": true,
            "ticks": "",
            "zerolinecolor": "white"
           }
          },
          "shapedefaults": {
           "line": {
            "color": "#2a3f5f"
           }
          },
          "ternary": {
           "aaxis": {
            "gridcolor": "white",
            "linecolor": "white",
            "ticks": ""
           },
           "baxis": {
            "gridcolor": "white",
            "linecolor": "white",
            "ticks": ""
           },
           "bgcolor": "#E5ECF6",
           "caxis": {
            "gridcolor": "white",
            "linecolor": "white",
            "ticks": ""
           }
          },
          "title": {
           "x": 0.05
          },
          "xaxis": {
           "automargin": true,
           "gridcolor": "white",
           "linecolor": "white",
           "ticks": "",
           "title": {
            "standoff": 15
           },
           "zerolinecolor": "white",
           "zerolinewidth": 2
          },
          "yaxis": {
           "automargin": true,
           "gridcolor": "white",
           "linecolor": "white",
           "ticks": "",
           "title": {
            "standoff": 15
           },
           "zerolinecolor": "white",
           "zerolinewidth": 2
          }
         }
        },
        "xaxis": {
         "anchor": "y",
         "domain": [
          0,
          1
         ],
         "title": {
          "text": "salary_usd"
         }
        },
        "yaxis": {
         "anchor": "x",
         "domain": [
          0,
          1
         ],
         "title": {
          "text": "count"
         }
        }
       }
      }
     },
     "metadata": {},
     "output_type": "display_data"
    }
   ],
   "source": [
    "px.histogram(df_joined, x='salary_usd', nbins=100)"
   ]
  },
  {
   "cell_type": "code",
   "execution_count": 26,
   "metadata": {},
   "outputs": [],
   "source": [
    "# select only date, title, experience, location, salary_currency, salary_usd\n",
    "df_final=df_joined[['date', 'title', 'experience_clean', 'location', 'salary_currency', 'salary_usd']]"
   ]
  },
  {
   "cell_type": "code",
   "execution_count": 27,
   "metadata": {},
   "outputs": [
    {
     "data": {
      "text/html": [
       "<div>\n",
       "<style scoped>\n",
       "    .dataframe tbody tr th:only-of-type {\n",
       "        vertical-align: middle;\n",
       "    }\n",
       "\n",
       "    .dataframe tbody tr th {\n",
       "        vertical-align: top;\n",
       "    }\n",
       "\n",
       "    .dataframe thead th {\n",
       "        text-align: right;\n",
       "    }\n",
       "</style>\n",
       "<table border=\"1\" class=\"dataframe\">\n",
       "  <thead>\n",
       "    <tr style=\"text-align: right;\">\n",
       "      <th></th>\n",
       "      <th>experience_clean</th>\n",
       "      <th>salary_usd</th>\n",
       "    </tr>\n",
       "  </thead>\n",
       "  <tbody>\n",
       "    <tr>\n",
       "      <th>count</th>\n",
       "      <td>266.000000</td>\n",
       "      <td>259.000000</td>\n",
       "    </tr>\n",
       "    <tr>\n",
       "      <th>mean</th>\n",
       "      <td>3.941228</td>\n",
       "      <td>107472.752163</td>\n",
       "    </tr>\n",
       "    <tr>\n",
       "      <th>std</th>\n",
       "      <td>4.027899</td>\n",
       "      <td>55280.091728</td>\n",
       "    </tr>\n",
       "    <tr>\n",
       "      <th>min</th>\n",
       "      <td>0.000000</td>\n",
       "      <td>6000.000000</td>\n",
       "    </tr>\n",
       "    <tr>\n",
       "      <th>25%</th>\n",
       "      <td>1.000000</td>\n",
       "      <td>69805.890228</td>\n",
       "    </tr>\n",
       "    <tr>\n",
       "      <th>50%</th>\n",
       "      <td>3.000000</td>\n",
       "      <td>100000.000000</td>\n",
       "    </tr>\n",
       "    <tr>\n",
       "      <th>75%</th>\n",
       "      <td>5.000000</td>\n",
       "      <td>139611.780455</td>\n",
       "    </tr>\n",
       "    <tr>\n",
       "      <th>max</th>\n",
       "      <td>34.000000</td>\n",
       "      <td>500000.000000</td>\n",
       "    </tr>\n",
       "  </tbody>\n",
       "</table>\n",
       "</div>"
      ],
      "text/plain": [
       "       experience_clean     salary_usd\n",
       "count        266.000000     259.000000\n",
       "mean           3.941228  107472.752163\n",
       "std            4.027899   55280.091728\n",
       "min            0.000000    6000.000000\n",
       "25%            1.000000   69805.890228\n",
       "50%            3.000000  100000.000000\n",
       "75%            5.000000  139611.780455\n",
       "max           34.000000  500000.000000"
      ]
     },
     "execution_count": 27,
     "metadata": {},
     "output_type": "execute_result"
    }
   ],
   "source": [
    "df_final.describe()\n"
   ]
  },
  {
   "cell_type": "code",
   "execution_count": 28,
   "metadata": {},
   "outputs": [],
   "source": [
    "# write to csv\n",
    "df_final.to_csv('df_final.csv', index=False)"
   ]
  },
  {
   "cell_type": "code",
   "execution_count": 29,
   "metadata": {},
   "outputs": [],
   "source": [
    "#create sqlite database\n",
    "import sqlite3\n",
    "conn = sqlite3.connect('../df_final.db')"
   ]
  },
  {
   "cell_type": "code",
   "execution_count": 31,
   "metadata": {},
   "outputs": [
    {
     "data": {
      "text/plain": [
       "304"
      ]
     },
     "execution_count": 31,
     "metadata": {},
     "output_type": "execute_result"
    }
   ],
   "source": [
    "#write to sqlite db\n",
    "df_final.to_sql('salary_data', con=conn, if_exists='replace', index=False)"
   ]
  },
  {
   "cell_type": "code",
   "execution_count": null,
   "metadata": {},
   "outputs": [],
   "source": []
  }
 ],
 "metadata": {
  "kernelspec": {
   "display_name": "Python 3.9.12 64-bit",
   "language": "python",
   "name": "python3"
  },
  "language_info": {
   "codemirror_mode": {
    "name": "ipython",
    "version": 3
   },
   "file_extension": ".py",
   "mimetype": "text/x-python",
   "name": "python",
   "nbconvert_exporter": "python",
   "pygments_lexer": "ipython3",
   "version": "3.9.12"
  },
  "orig_nbformat": 4,
  "vscode": {
   "interpreter": {
    "hash": "b0fa6594d8f4cbf19f97940f81e996739fb7646882a419484c72d19e05852a7e"
   }
  }
 },
 "nbformat": 4,
 "nbformat_minor": 2
}
